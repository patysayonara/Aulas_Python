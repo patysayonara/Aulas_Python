{
 "cells": [
  {
   "cell_type": "code",
   "execution_count": null,
   "metadata": {},
   "outputs": [],
   "source": [
    "f = open(\"unisex_names_table.csv\", \"r\")\n",
    "data = f.read()\n",
    "names_list = data.split(\"\\n\")\n",
    "names_list = names_list[1:-1]\n",
    "first_five = names_list[0:5]\n",
    "nested_list = []\n",
    "for i in names_list:\n",
    "    comma_list = i.split(\",\")\n",
    "    nested_list.append(comma_list)\n",
    "thousand_or_greater = []\n",
    "numerical_list\n",
    "for i in nested_list:\n",
    "    numerical_list.append([i[0], float(i[1])])\n",
    "for i in numerical_list:\n",
    "    if i[1] >= 1000:\n",
    "        thousand_or_greater.append(i[0])\n"
   ]
  },
  {
   "cell_type": "code",
   "execution_count": null,
   "metadata": {},
   "outputs": [],
   "source": [
    "f = open(\"la_weather.csv\", \"r\")\n",
    "data = f.read()\n",
    "rows = data.split(\"\\n\")\n",
    "weather_data = []\n",
    "for i in rows:\n",
    "    alt = i.split(\",\")\n",
    "    weather_data.append(alt[1])\n",
    "weather_data = weather_data[1:]\n",
    "\n",
    "weather_counts = {}\n",
    "\n",
    "for i in weather_data:\n",
    "    if i in weather_counts:\n",
    "        weather_counts[i] += 1\n",
    "    else:\n",
    "        weather_counts[i] = 1\n",
    "\n",
    "def count_weather(x):\n",
    "    weather = {}\n",
    "    for i in x:\n",
    "        if i in weather:\n",
    "            weather[i] += 1\n",
    "        else:\n",
    "            weather[i] = 1\n",
    "    return weather"
   ]
  },
  {
   "cell_type": "code",
   "execution_count": null,
   "metadata": {},
   "outputs": [],
   "source": [
    "import csv \n",
    "f = open(\"my_data.csv\")\n",
    "data = csv.reader(f)\n",
    "my_data = list(data)\n",
    "\n",
    "\n",
    "f = open(\"nfl.csv\")\n",
    "data = csv.reader(f)\n",
    "nfl = list(data)\n",
    "count = 0\n",
    "for i in nfl:\n",
    "    if i[2] == \"New England Patriots\":\n",
    "        counts += 1\n",
    "print(counts)\n",
    "\n",
    "def nfl_counts(team):\n",
    "    count = 0\n",
    "    for i in nfl:\n",
    "        if i[2] == team:\n",
    "            count += 1\n",
    "    return count\n",
    "\n"
   ]
  },
  {
   "cell_type": "code",
   "execution_count": null,
   "metadata": {},
   "outputs": [],
   "source": [
    "import cvs\n",
    "f = open(\"legislators.csv\")\n",
    "data = cvs.reader(f)\n",
    "legislators = list(data)\n",
    "gender = []\n",
    "for i in legislators[1:]:\n",
    "    gender.append(i[3])\n",
    "    party.append(i[-1])\n",
    "gender_set = set(gender)\n",
    "party_set = set(party)\n",
    "\n",
    "\n",
    "gender_new = []\n",
    "for i in gender:\n",
    "    if i == \"\":\n",
    "        i = \"M\"\n",
    "    gender_new.append(i)\n",
    "print(gender)\n",
    "\n",
    "birth_years = []\n",
    "for i in legislators[1:]:\n",
    "    parts = i[2].split(\"-\")\n",
    "    birth_years.append(parts[0])\n",
    "    \n",
    "converted_years = []\n",
    "for i in birth_years:\n",
    "    year = i\n",
    "    try:\n",
    "        int(year)\n",
    "    except Exception:\n",
    "        pass\n",
    "    converted_years.append(year)\n",
    "    \n"
   ]
  },
  {
   "cell_type": "code",
   "execution_count": null,
   "metadata": {},
   "outputs": [],
   "source": [
    "ships = [\"Andrea Doria\", \"Titanic\", \"Lusitania\"]\n",
    "cars = [\"Ford Edsel\", \"Ford Pinto\", \"Yugo\"]\n",
    "for i, ship in enumerate(ships):\n",
    "    print(ship, \": \", cars[i])\n",
    "    \n",
    "things = [[\"apple\", \"monkey\"], [\"orange\", \"dog\"], [\"banana\", \"cat\"]]\n",
    "trees = [\"cedar\", \"maple\", \"fig\"]\n",
    "for i, thing in enumerate(things):\n",
    "    things[i].append(trees[i])\n",
    "print(things)"
   ]
  },
  {
   "cell_type": "code",
   "execution_count": null,
   "metadata": {},
   "outputs": [],
   "source": [
    "world_alcohol = np.genfromtxt(\"world_alcohol.csv\", delimiter = \",\", dtype = \"U75\", skip_header = 1)\n",
    "\n",
    "wine_countrys = []\n",
    "for i in world_alcohol:\n",
    "    country = i[2]\n",
    "    if(i[3] == \"Wine\"):\n",
    "        wine_countrys.append([i[2], (i[4])])\n",
    "    else:\n",
    "        pass"
   ]
  }
 ],
 "metadata": {
  "kernelspec": {
   "display_name": "Python 3",
   "language": "python",
   "name": "python3"
  },
  "language_info": {
   "codemirror_mode": {
    "name": "ipython",
    "version": 3
   },
   "file_extension": ".py",
   "mimetype": "text/x-python",
   "name": "python",
   "nbconvert_exporter": "python",
   "pygments_lexer": "ipython3",
   "version": "3.6.4"
  }
 },
 "nbformat": 4,
 "nbformat_minor": 2
}
