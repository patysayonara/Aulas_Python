{
 "cells": [
  {
   "cell_type": "markdown",
   "metadata": {},
   "source": [
    "## Unidade 01 - Avaliação 01\n",
    "\n",
    "- **Aluno**: gabarito\n",
    "- **Matrícula**: 20xx\n",
    "\n",
    "<br>\n",
    "<div class=\"alert alert-info\">\n",
    "<b>Avisos.</b>\n",
    "</div>\n",
    "\n",
    "\n",
    "1. O notebook deverá ser renomeado para o nome completo do aluno seguindo o formato: Ivanovitch_Medeiros_Dantas_da_Silva.ipynb\n",
    "2. Todas as questões devem ser respondidas através de códigos escritos em linguagem Python, versão 3.X, e no espaço destinado para esse fim. Criem células Markdown para destacar quando inicia e termina as questões. \n",
    "3. O notebook resultante deverá ser enviado através do Sigaa conforme tarefa cadastrada pelo professor. Ressalta-se que após o horário de final da aula, a submissão da tarefa estará fechada no Sigaa. \n",
    "4. O arquivo da base de dados não deve ser alterado.\n",
    "5. Em nenhuma hipótese os alunos devem trocar mensagens entre si. A prova só deve ser compartilhada na Internet após a sua correção. Caso seja identificado tal situação, os envolvidos terão automaticamente nota Zero (0.0) na avaliação.   "
   ]
  },
  {
   "cell_type": "markdown",
   "metadata": {},
   "source": [
    "## Base de dados\n",
    "\n",
    "Nessa avaliação será utilizado a base de dados referente aos concursos da Mega-Sena. \n",
    "\n",
    "A **Mega-Sena** tem sido a maior modalidade lotérica do Brasil, sendo uma entre as dez modalidades atuais das loterias da Caixa (Caixa Econômica Federal), com sorteios ordinários duas vezes por semana, além da Mega-Sena da Virada.\n",
    "\n",
    "Para ganhar o **prêmio máximo da Mega-Sena** — **a sena** — , é necessário acertar a sena, o que significa obter coincidência entre **seis dos números** apostados e os seis números sorteados, de um total de sessenta dezenas (**de 01 a 60**), independentemente da ordem da aposta ou da ordem do sorteio. \n",
    "\n",
    "O concurso prevê também a chance de se ganhar parte do prêmio máximo, pelo acerto da **quina** (apenas cinco dos números sorteados), ou da **quadra** (apenas quatro dos números sorteados), com prêmios significativamente menores que aquele que seria pago na ocorrência do acerto da sena, o da quina maior que o da quadra. \n",
    "\n",
    "A base de dados está em formato de planilha em excel. Para carregar esse arquivo em formato de **dataframe** utilizar o código abaixo: \n",
    "\n",
    ">```python\n",
    "# Importar as bibliotecas necessárias\n",
    "import pandas as pd\n",
    "# Atribuir o nome da planilha para a variável \"arquivo\"\n",
    "arquivo = 'basedados.xlsx'\n",
    "# Carregar a base de dados para um objeto pandas.io.excel.ExcelFile\n",
    "excel = pd.ExcelFile(arquivo)\n",
    "# Imprimir o nome das planilhas\n",
    "print(excel.sheet_names)\n",
    "# Carregar a planilha excel para um objeto dataframe\n",
    "dados = excel.parse(0)\n",
    "# Imprimir as cinco primeiras linhas do dataframe\n",
    "dados.head()\n",
    "```"
   ]
  },
  {
   "cell_type": "code",
   "execution_count": 1,
   "metadata": {},
   "outputs": [
    {
     "name": "stdout",
     "output_type": "stream",
     "text": [
      "['MegaSena']\n"
     ]
    },
    {
     "data": {
      "text/html": [
       "<div>\n",
       "<style scoped>\n",
       "    .dataframe tbody tr th:only-of-type {\n",
       "        vertical-align: middle;\n",
       "    }\n",
       "\n",
       "    .dataframe tbody tr th {\n",
       "        vertical-align: top;\n",
       "    }\n",
       "\n",
       "    .dataframe thead th {\n",
       "        text-align: right;\n",
       "    }\n",
       "</style>\n",
       "<table border=\"1\" class=\"dataframe\">\n",
       "  <thead>\n",
       "    <tr style=\"text-align: right;\">\n",
       "      <th></th>\n",
       "      <th>Concurso</th>\n",
       "      <th>Data Sorteio</th>\n",
       "      <th>Dezena1</th>\n",
       "      <th>Dezena2</th>\n",
       "      <th>Dezena3</th>\n",
       "      <th>Dezena4</th>\n",
       "      <th>Dezena5</th>\n",
       "      <th>Dezena6</th>\n",
       "      <th>Arrecadacao_Total</th>\n",
       "      <th>Ganhadores_Sena</th>\n",
       "      <th>Rateio_Sena</th>\n",
       "      <th>Ganhadores_Quina</th>\n",
       "      <th>Rateio_Quina</th>\n",
       "      <th>Ganhadores_Quadra</th>\n",
       "      <th>Rateio_Quadra</th>\n",
       "      <th>Acumulado</th>\n",
       "      <th>Valor_Acumulado</th>\n",
       "      <th>Estimativa_Prêmio</th>\n",
       "    </tr>\n",
       "  </thead>\n",
       "  <tbody>\n",
       "    <tr>\n",
       "      <th>0</th>\n",
       "      <td>1</td>\n",
       "      <td>1996-03-11</td>\n",
       "      <td>41</td>\n",
       "      <td>5</td>\n",
       "      <td>4</td>\n",
       "      <td>52</td>\n",
       "      <td>30</td>\n",
       "      <td>33</td>\n",
       "      <td>0.0</td>\n",
       "      <td>0</td>\n",
       "      <td>0.00</td>\n",
       "      <td>17</td>\n",
       "      <td>39158.92</td>\n",
       "      <td>2016</td>\n",
       "      <td>330.21</td>\n",
       "      <td>SIM</td>\n",
       "      <td>1714650.23</td>\n",
       "      <td>0</td>\n",
       "    </tr>\n",
       "    <tr>\n",
       "      <th>1</th>\n",
       "      <td>2</td>\n",
       "      <td>1996-03-18</td>\n",
       "      <td>9</td>\n",
       "      <td>39</td>\n",
       "      <td>37</td>\n",
       "      <td>49</td>\n",
       "      <td>43</td>\n",
       "      <td>41</td>\n",
       "      <td>0.0</td>\n",
       "      <td>1</td>\n",
       "      <td>2307162.23</td>\n",
       "      <td>65</td>\n",
       "      <td>14424.02</td>\n",
       "      <td>4488</td>\n",
       "      <td>208.91</td>\n",
       "      <td>NÃO</td>\n",
       "      <td>0.00</td>\n",
       "      <td>0</td>\n",
       "    </tr>\n",
       "    <tr>\n",
       "      <th>2</th>\n",
       "      <td>3</td>\n",
       "      <td>1996-03-25</td>\n",
       "      <td>36</td>\n",
       "      <td>30</td>\n",
       "      <td>10</td>\n",
       "      <td>11</td>\n",
       "      <td>29</td>\n",
       "      <td>47</td>\n",
       "      <td>0.0</td>\n",
       "      <td>2</td>\n",
       "      <td>391192.51</td>\n",
       "      <td>62</td>\n",
       "      <td>10515.93</td>\n",
       "      <td>4261</td>\n",
       "      <td>153.01</td>\n",
       "      <td>NÃO</td>\n",
       "      <td>0.00</td>\n",
       "      <td>0</td>\n",
       "    </tr>\n",
       "    <tr>\n",
       "      <th>3</th>\n",
       "      <td>4</td>\n",
       "      <td>1996-04-01</td>\n",
       "      <td>6</td>\n",
       "      <td>59</td>\n",
       "      <td>42</td>\n",
       "      <td>27</td>\n",
       "      <td>1</td>\n",
       "      <td>5</td>\n",
       "      <td>0.0</td>\n",
       "      <td>0</td>\n",
       "      <td>0.00</td>\n",
       "      <td>39</td>\n",
       "      <td>15322.24</td>\n",
       "      <td>3311</td>\n",
       "      <td>180.48</td>\n",
       "      <td>SIM</td>\n",
       "      <td>717080.75</td>\n",
       "      <td>0</td>\n",
       "    </tr>\n",
       "    <tr>\n",
       "      <th>4</th>\n",
       "      <td>5</td>\n",
       "      <td>1996-04-08</td>\n",
       "      <td>1</td>\n",
       "      <td>19</td>\n",
       "      <td>46</td>\n",
       "      <td>6</td>\n",
       "      <td>16</td>\n",
       "      <td>2</td>\n",
       "      <td>0.0</td>\n",
       "      <td>0</td>\n",
       "      <td>0.00</td>\n",
       "      <td>98</td>\n",
       "      <td>5318.10</td>\n",
       "      <td>5399</td>\n",
       "      <td>96.53</td>\n",
       "      <td>SIM</td>\n",
       "      <td>1342488.85</td>\n",
       "      <td>0</td>\n",
       "    </tr>\n",
       "  </tbody>\n",
       "</table>\n",
       "</div>"
      ],
      "text/plain": [
       "   Concurso Data Sorteio  Dezena1  Dezena2  Dezena3  Dezena4  Dezena5  \\\n",
       "0         1   1996-03-11       41        5        4       52       30   \n",
       "1         2   1996-03-18        9       39       37       49       43   \n",
       "2         3   1996-03-25       36       30       10       11       29   \n",
       "3         4   1996-04-01        6       59       42       27        1   \n",
       "4         5   1996-04-08        1       19       46        6       16   \n",
       "\n",
       "   Dezena6  Arrecadacao_Total  Ganhadores_Sena  Rateio_Sena  Ganhadores_Quina  \\\n",
       "0       33                0.0                0         0.00                17   \n",
       "1       41                0.0                1   2307162.23                65   \n",
       "2       47                0.0                2    391192.51                62   \n",
       "3        5                0.0                0         0.00                39   \n",
       "4        2                0.0                0         0.00                98   \n",
       "\n",
       "   Rateio_Quina  Ganhadores_Quadra  Rateio_Quadra Acumulado  Valor_Acumulado  \\\n",
       "0      39158.92               2016         330.21       SIM       1714650.23   \n",
       "1      14424.02               4488         208.91       NÃO             0.00   \n",
       "2      10515.93               4261         153.01       NÃO             0.00   \n",
       "3      15322.24               3311         180.48       SIM        717080.75   \n",
       "4       5318.10               5399          96.53       SIM       1342488.85   \n",
       "\n",
       "   Estimativa_Prêmio  \n",
       "0                  0  \n",
       "1                  0  \n",
       "2                  0  \n",
       "3                  0  \n",
       "4                  0  "
      ]
     },
     "execution_count": 1,
     "metadata": {},
     "output_type": "execute_result"
    }
   ],
   "source": [
    "# Importar as bibliotecas necessárias\n",
    "import pandas as pd\n",
    "# Atribuir o nome da planilha para a variável \"arquivo\"\n",
    "arquivo = 'basedados.xlsx'\n",
    "# Carregar a base de dados para um objeto pandas.io.excel.ExcelFile\n",
    "excel = pd.ExcelFile(arquivo)\n",
    "# Imprimir o nome das planilhas\n",
    "print(excel.sheet_names)\n",
    "# Carregar a planilha excel para um objeto dataframe\n",
    "dados = excel.parse(0)\n",
    "# Imprimir as cinco primeiras linhas do dataframe\n",
    "dados.head()"
   ]
  },
  {
   "cell_type": "markdown",
   "metadata": {},
   "source": [
    "## a) (2.0 pontos) Investigando a base de dados\n",
    "\n",
    "1. (0.2 pontos) Quantos dados faltantes existem em toda a base de dados?\n",
    "2. (0.2 pontos) Quais os tipos das colunas da base de dados?\n",
    "3. (0.2 pontos) Qual o concurso com o maior número de ganhadores na sena?\n",
    "4. (0.4 pontos) Quantos dias se passaram entre os 100 últimos concurso?\n",
    "5. (1.0 ponto)  Qual a porcentagem de concursos não acumulados?"
   ]
  },
  {
   "cell_type": "code",
   "execution_count": 2,
   "metadata": {
    "scrolled": true
   },
   "outputs": [
    {
     "data": {
      "text/plain": [
       "Concurso             0\n",
       "Data Sorteio         0\n",
       "Dezena1              0\n",
       "Dezena2              0\n",
       "Dezena3              0\n",
       "Dezena4              0\n",
       "Dezena5              0\n",
       "Dezena6              0\n",
       "Arrecadacao_Total    0\n",
       "Ganhadores_Sena      0\n",
       "Rateio_Sena          0\n",
       "Ganhadores_Quina     0\n",
       "Rateio_Quina         0\n",
       "Ganhadores_Quadra    0\n",
       "Rateio_Quadra        0\n",
       "Acumulado            0\n",
       "Valor_Acumulado      0\n",
       "Estimativa_Prêmio    0\n",
       "dtype: int64"
      ]
     },
     "execution_count": 2,
     "metadata": {},
     "output_type": "execute_result"
    }
   ],
   "source": [
    "#a.1\n",
    "dados.isnull().sum()"
   ]
  },
  {
   "cell_type": "code",
   "execution_count": 3,
   "metadata": {
    "scrolled": true
   },
   "outputs": [
    {
     "name": "stdout",
     "output_type": "stream",
     "text": [
      "<class 'pandas.core.frame.DataFrame'>\n",
      "Int64Index: 2025 entries, 0 to 2024\n",
      "Data columns (total 18 columns):\n",
      "Concurso             2025 non-null int64\n",
      "Data Sorteio         2025 non-null datetime64[ns]\n",
      "Dezena1              2025 non-null int64\n",
      "Dezena2              2025 non-null int64\n",
      "Dezena3              2025 non-null int64\n",
      "Dezena4              2025 non-null int64\n",
      "Dezena5              2025 non-null int64\n",
      "Dezena6              2025 non-null int64\n",
      "Arrecadacao_Total    2025 non-null float64\n",
      "Ganhadores_Sena      2025 non-null int64\n",
      "Rateio_Sena          2025 non-null float64\n",
      "Ganhadores_Quina     2025 non-null int64\n",
      "Rateio_Quina         2025 non-null float64\n",
      "Ganhadores_Quadra    2025 non-null int64\n",
      "Rateio_Quadra        2025 non-null float64\n",
      "Acumulado            2025 non-null object\n",
      "Valor_Acumulado      2025 non-null float64\n",
      "Estimativa_Prêmio    2025 non-null int64\n",
      "dtypes: datetime64[ns](1), float64(5), int64(11), object(1)\n",
      "memory usage: 300.6+ KB\n"
     ]
    }
   ],
   "source": [
    "#b.2\n",
    "dados.info()"
   ]
  },
  {
   "cell_type": "code",
   "execution_count": 5,
   "metadata": {},
   "outputs": [
    {
     "data": {
      "text/plain": [
       "Concurso                            2000\n",
       "Data Sorteio         2017-12-31 00:00:00\n",
       "Dezena1                                6\n",
       "Dezena2                               37\n",
       "Dezena3                               34\n",
       "Dezena4                               10\n",
       "Dezena5                                3\n",
       "Dezena6                               17\n",
       "Arrecadacao_Total            8.90947e+08\n",
       "Ganhadores_Sena                       17\n",
       "Rateio_Sena                  1.80423e+07\n",
       "Ganhadores_Quina                    4862\n",
       "Rateio_Quina                       10565\n",
       "Ganhadores_Quadra                 173428\n",
       "Rateio_Quadra                     423.12\n",
       "Acumulado                            NÃO\n",
       "Valor_Acumulado                        0\n",
       "Estimativa_Prêmio                2000000\n",
       "Name: 1999, dtype: object"
      ]
     },
     "execution_count": 5,
     "metadata": {},
     "output_type": "execute_result"
    }
   ],
   "source": [
    "#b.3\n",
    "dados.iloc[dados.Ganhadores_Sena.idxmax()]"
   ]
  },
  {
   "cell_type": "code",
   "execution_count": 29,
   "metadata": {
    "scrolled": true
   },
   "outputs": [
    {
     "data": {
      "text/plain": [
       "Timedelta('325 days 00:00:00')"
      ]
     },
     "execution_count": 29,
     "metadata": {},
     "output_type": "execute_result"
    }
   ],
   "source": [
    "#b.4\n",
    "dados.iloc[-1][\"Data Sorteio\"] - dados.iloc[-100][\"Data Sorteio\"]"
   ]
  },
  {
   "cell_type": "code",
   "execution_count": 14,
   "metadata": {},
   "outputs": [
    {
     "data": {
      "text/plain": [
       "0.23555555555555555"
      ]
     },
     "execution_count": 14,
     "metadata": {},
     "output_type": "execute_result"
    }
   ],
   "source": [
    "#b.5\n",
    "dados.Acumulado.value_counts().NÃO/dados.shape[0]"
   ]
  },
  {
   "cell_type": "markdown",
   "metadata": {},
   "source": [
    "## b) (3.0 pontos) Tentativa de encontrar uma aposta perfeita\n",
    "\n",
    "\n",
    "1. (3.0 pontos) Pythonildo teve uma ideia brilhante para **ganhar na Mega-Sena**. Sendo ele uma pessoa muito exotérica, acredita que o dia \"2010-01-01\" tem uma influência grande nos resultados. Assim, a estratégia de Pythonildo é fazer uma aposta de 6 números contendo os 6 números que mais apareceram em todos os concursos da MegaSena a partir do dia \"2010-01-01\". Encontre a aposta perfeita segundo Pythonildo.\n",
    "\n",
    "*sugestão - consultar a função pandas.DataFrame.unstack*"
   ]
  },
  {
   "cell_type": "code",
   "execution_count": 19,
   "metadata": {},
   "outputs": [
    {
     "data": {
      "text/plain": [
       "10    113\n",
       "2     108\n",
       "53    106\n",
       "30    103\n",
       "52    103\n",
       "5     100\n",
       "dtype: int64"
      ]
     },
     "execution_count": 19,
     "metadata": {},
     "output_type": "execute_result"
    }
   ],
   "source": [
    "colunas = [\"Dezena1\", \"Dezena2\", \"Dezena3\", \"Dezena4\", \"Dezena5\", \"Dezena6\"]\n",
    "\n",
    "dados[dados[\"Data Sorteio\"] > \"2010-01-01\"][colunas].unstack().value_counts()[0:6]"
   ]
  },
  {
   "cell_type": "markdown",
   "metadata": {},
   "source": [
    "## c) (5.0 pontos) Investigando a premiação\n",
    "\n",
    "Para cada concurso da Mega-Sena, a maior premiação está relacionada com o acerto das 6 dezenas, e o seu valor é dada pela seguinte relação:\n",
    "\n",
    "$$Prêmio = Ganhadores\\_Sena\t\\times Rateio\\_Sena$$\n",
    "\n",
    "1) (1.0 ponto) Crie uma nova coluna na base de dados para o prêmio máximo de cada concurso. A coluna deve ser chamada de \"prêmio_máximo\"\n",
    "\n",
    "2) (1.0 ponto) Qual concurso ocorreu o maior prêmio da Mega-Sena?\n",
    "\n",
    "3) (1.5 pontos) Crie uma nova coluna chamada \"Rótulo\" baseada na faixa de valores da coluna \"prêmio_máximo\"\n",
    "\n",
    "| Intervalo [Milhões de Reais] | Rótulo |\n",
    "|------------------------------|--------|\n",
    "| 0 - 1                        | I      |\n",
    "| 1 - 5                        | II     |\n",
    "| 5 - 10                       | III    |\n",
    "| 10 - 20                      | IV     |\n",
    "| 20 - 40                      | V      |\n",
    "| 40 - 80                      | VI     |\n",
    "| 80 - 100                     | VII    |\n",
    "| 100 - 200                    | VIII   |\n",
    "| 200 - 300                    | IX     |\n",
    "| 300 -                        | X      |\n",
    "4) (1.5 pontos) Calcule a porcentagem de ocorrência para cada rótulo assumindo o número total de concursos realizados. "
   ]
  },
  {
   "cell_type": "code",
   "execution_count": 20,
   "metadata": {},
   "outputs": [],
   "source": [
    "#c.1\n",
    "dados[\"prêmio_máximo\"] = dados.Ganhadores_Sena * dados.Rateio_Sena"
   ]
  },
  {
   "cell_type": "code",
   "execution_count": 21,
   "metadata": {},
   "outputs": [
    {
     "data": {
      "text/plain": [
       "Concurso                            2000\n",
       "Data Sorteio         2017-12-31 00:00:00\n",
       "Dezena1                                6\n",
       "Dezena2                               37\n",
       "Dezena3                               34\n",
       "Dezena4                               10\n",
       "Dezena5                                3\n",
       "Dezena6                               17\n",
       "Arrecadacao_Total            8.90947e+08\n",
       "Ganhadores_Sena                       17\n",
       "Rateio_Sena                  1.80423e+07\n",
       "Ganhadores_Quina                    4862\n",
       "Rateio_Quina                       10565\n",
       "Ganhadores_Quadra                 173428\n",
       "Rateio_Quadra                     423.12\n",
       "Acumulado                            NÃO\n",
       "Valor_Acumulado                        0\n",
       "Estimativa_Prêmio                2000000\n",
       "prêmio_máximo                3.06719e+08\n",
       "Rótulo                                 X\n",
       "Name: 1999, dtype: object"
      ]
     },
     "execution_count": 21,
     "metadata": {},
     "output_type": "execute_result"
    }
   ],
   "source": [
    "#c.2\n",
    "dados.iloc[dados.prêmio_máximo.idxmax()]"
   ]
  },
  {
   "cell_type": "code",
   "execution_count": 22,
   "metadata": {},
   "outputs": [],
   "source": [
    "#c.3\n",
    "dados[\"Rótulo\"] = pd.cut(dados[\"prêmio_máximo\"],\n",
    "       bins=[0,1e6,5e6,1e7,2e7,4e7,8e7,1e8,2e8,3e8,4e8],\n",
    "      labels=[\"I\",\"II\",\"III\",\"IV\",\"V\",\"VI\",\"VII\",\"VIII\",\"IX\",\"X\"],\n",
    "      include_lowest=True)"
   ]
  },
  {
   "cell_type": "code",
   "execution_count": 23,
   "metadata": {},
   "outputs": [
    {
     "data": {
      "text/html": [
       "<div>\n",
       "<style scoped>\n",
       "    .dataframe tbody tr th:only-of-type {\n",
       "        vertical-align: middle;\n",
       "    }\n",
       "\n",
       "    .dataframe tbody tr th {\n",
       "        vertical-align: top;\n",
       "    }\n",
       "\n",
       "    .dataframe thead th {\n",
       "        text-align: right;\n",
       "    }\n",
       "</style>\n",
       "<table border=\"1\" class=\"dataframe\">\n",
       "  <thead>\n",
       "    <tr style=\"text-align: right;\">\n",
       "      <th></th>\n",
       "      <th>Porcentagem</th>\n",
       "    </tr>\n",
       "    <tr>\n",
       "      <th>Rótulo</th>\n",
       "      <th></th>\n",
       "    </tr>\n",
       "  </thead>\n",
       "  <tbody>\n",
       "    <tr>\n",
       "      <th>I</th>\n",
       "      <td>0.770370</td>\n",
       "    </tr>\n",
       "    <tr>\n",
       "      <th>II</th>\n",
       "      <td>0.049877</td>\n",
       "    </tr>\n",
       "    <tr>\n",
       "      <th>III</th>\n",
       "      <td>0.032593</td>\n",
       "    </tr>\n",
       "    <tr>\n",
       "      <th>IV</th>\n",
       "      <td>0.046914</td>\n",
       "    </tr>\n",
       "    <tr>\n",
       "      <th>V</th>\n",
       "      <td>0.063704</td>\n",
       "    </tr>\n",
       "    <tr>\n",
       "      <th>VI</th>\n",
       "      <td>0.026667</td>\n",
       "    </tr>\n",
       "    <tr>\n",
       "      <th>VII</th>\n",
       "      <td>0.001481</td>\n",
       "    </tr>\n",
       "    <tr>\n",
       "      <th>VIII</th>\n",
       "      <td>0.004938</td>\n",
       "    </tr>\n",
       "    <tr>\n",
       "      <th>IX</th>\n",
       "      <td>0.002963</td>\n",
       "    </tr>\n",
       "    <tr>\n",
       "      <th>X</th>\n",
       "      <td>0.000494</td>\n",
       "    </tr>\n",
       "  </tbody>\n",
       "</table>\n",
       "</div>"
      ],
      "text/plain": [
       "        Porcentagem\n",
       "Rótulo             \n",
       "I          0.770370\n",
       "II         0.049877\n",
       "III        0.032593\n",
       "IV         0.046914\n",
       "V          0.063704\n",
       "VI         0.026667\n",
       "VII        0.001481\n",
       "VIII       0.004938\n",
       "IX         0.002963\n",
       "X          0.000494"
      ]
     },
     "execution_count": 23,
     "metadata": {},
     "output_type": "execute_result"
    }
   ],
   "source": [
    "#c.4\n",
    "(dados.pivot_table(index=[\"Rótulo\"], values=\"Concurso\", \n",
    "                   aggfunc=\"count\")/dados.shape[0]).rename(columns={'Concurso': 'Porcentagem'})"
   ]
  }
 ],
 "metadata": {
  "kernelspec": {
   "display_name": "Python 3",
   "language": "python",
   "name": "python3"
  },
  "language_info": {
   "codemirror_mode": {
    "name": "ipython",
    "version": 3
   },
   "file_extension": ".py",
   "mimetype": "text/x-python",
   "name": "python",
   "nbconvert_exporter": "python",
   "pygments_lexer": "ipython3",
   "version": "3.6.4"
  }
 },
 "nbformat": 4,
 "nbformat_minor": 2
}
