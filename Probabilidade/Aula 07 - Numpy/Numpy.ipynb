{
 "cells": [
  {
   "cell_type": "markdown",
   "metadata": {},
   "source": [
    "## 1. Numpy\n",
    "\n",
    "In the previous notebooks, we used nested lists in Python to represent datasets. Python lists offer a few advantages when representing data:\n",
    "\n",
    "- lists can contain mixed types\n",
    "- lists can shrink and grow dynamically\n",
    "\n",
    "Using Python lists to represent and work with data also has a few key disadvantages:\n",
    "\n",
    "- to support their flexibility, lists tend to consume lots of memory\n",
    "- they struggle to work with medium and larger sized datasets\n",
    "\n",
    "While there are many different ways to classify programming languages, an important way that keeps performance in mind is the difference between **low-level** and **high-level** languages. Python is a high-level programming language that allows us to quickly write, prototype, and test our logic. The C programming language, on the other hand, is a low-level programming language that is highly performant but has a much slower human workflow.\n",
    "\n",
    "<span style=\"background-color: #F9EBEA; color:##C0392B\">NumPy</span> is a library that combines the flexibility and ease-of-use of Python with the speed of C. In this mission, we'll start by getting familiar with the core NumPy data structure and then build up to using NumPy to work with the dataset <span style=\"background-color: #F9EBEA; color:##C0392B\">world_alcohol.csv</span>, which contains data on how much alcohol is consumed per capita in each country.\n",
    "\n",
    "\n",
    "### 1.1 Creating Arrays\n",
    "\n",
    "The core data structure in NumPy is the <span style=\"background-color: #F9EBEA; color:##C0392B\">ndarray</span> object, which stands for **N-dimensional array**. An **array** is a collection of values, similar to a list. **N-dimensional** refers to the number of indices needed to select individual values from the object.\n",
    "\n",
    "<img width=\"500\" alt=\"creating a repo\" src=\"https://drive.google.com/uc?export=view&id=0BxhVm1REqwr0X0VuT3NoZGZ0UlU\">\n",
    "\n",
    "A **1-dimensional** array is often referred to as a vector while a **2-dimensional** array is often referred to as a **matrix**. Both of these terms are both borrowed from a branch of mathematics called linear algebra. They're also often used in data science literature, so we'll use these words throughout this course.\n",
    "\n",
    "To use <span style=\"background-color: #F9EBEA; color:##C0392B\">NumPy</span>, we first need to import it into our environment. NumPy is commonly imported using the alias <span style=\"background-color: #F9EBEA; color:##C0392B\">np</span>:\n",
    "\n",
    ">```python\n",
    "import numpy as np\n",
    "```\n",
    "\n",
    "We can directly construct arrays from lists using the <span style=\"background-color: #F9EBEA; color:##C0392B\">numpy.array()</span> function. To construct a vector, we need to pass in a single list (with no nesting):\n",
    "\n",
    ">```python\n",
    "matrix = np.array([[5, 10, 15], [20, 25, 30], [35, 40, 45]])\n",
    "```"
   ]
  },
  {
   "cell_type": "code",
   "execution_count": 2,
   "metadata": {},
   "outputs": [
    {
     "name": "stdout",
     "output_type": "stream",
     "text": [
      "Requirement already satisfied: numpy in c:\\users\\paty_\\anaconda3\\lib\\site-packages\n"
     ]
    }
   ],
   "source": [
    "!pip install numpy"
   ]
  },
  {
   "cell_type": "code",
   "execution_count": 3,
   "metadata": {},
   "outputs": [],
   "source": [
    "import numpy as np\n",
    "\n",
    "vector = np.array([10, 20, 30])\n",
    "matrix = np.array([[5, 10, 15], [20, 25, 30], [35, 40, 45]])"
   ]
  },
  {
   "cell_type": "code",
   "execution_count": 4,
   "metadata": {},
   "outputs": [
    {
     "data": {
      "text/plain": [
       "array([10, 20, 30])"
      ]
     },
     "execution_count": 4,
     "metadata": {},
     "output_type": "execute_result"
    }
   ],
   "source": [
    "vector"
   ]
  },
  {
   "cell_type": "code",
   "execution_count": 6,
   "metadata": {},
   "outputs": [
    {
     "data": {
      "text/plain": [
       "array([[ 5, 10, 15],\n",
       "       [20, 25, 30],\n",
       "       [35, 40, 45]])"
      ]
     },
     "execution_count": 6,
     "metadata": {},
     "output_type": "execute_result"
    }
   ],
   "source": [
    "matrix\n",
    "# Para mudar é só colocar matrix.shape = (3, 2) - não é a transposta"
   ]
  },
  {
   "cell_type": "code",
   "execution_count": 7,
   "metadata": {},
   "outputs": [
    {
     "data": {
      "text/plain": [
       "array([30, 45])"
      ]
     },
     "execution_count": 7,
     "metadata": {},
     "output_type": "execute_result"
    }
   ],
   "source": [
    "matrix[1:3, 2]"
   ]
  },
  {
   "cell_type": "code",
   "execution_count": 8,
   "metadata": {},
   "outputs": [
    {
     "data": {
      "text/plain": [
       "array([[ 5, 20, 35],\n",
       "       [10, 25, 40],\n",
       "       [15, 30, 45]])"
      ]
     },
     "execution_count": 8,
     "metadata": {},
     "output_type": "execute_result"
    }
   ],
   "source": [
    "matrix.T\n",
    "# Matriz transposta"
   ]
  },
  {
   "cell_type": "code",
   "execution_count": 9,
   "metadata": {},
   "outputs": [],
   "source": [
    "vector.shape = (3,1)"
   ]
  },
  {
   "cell_type": "code",
   "execution_count": 10,
   "metadata": {},
   "outputs": [
    {
     "data": {
      "text/plain": [
       "array([[10],\n",
       "       [20],\n",
       "       [30]])"
      ]
     },
     "execution_count": 10,
     "metadata": {},
     "output_type": "execute_result"
    }
   ],
   "source": [
    "vector"
   ]
  },
  {
   "cell_type": "code",
   "execution_count": null,
   "metadata": {},
   "outputs": [],
   "source": [
    "# PUT YOUR CODE HERE\n",
    "# Access items of vector and matrix (rows and item) using Slicing or not"
   ]
  },
  {
   "cell_type": "markdown",
   "metadata": {},
   "source": [
    "### 1.2 Array shape\n",
    "\n",
    "It's often useful to know how many elements an array contains. We can use the [ndarray.shape](http://docs.scipy.org/doc/numpy-1.10.1/reference/generated/numpy.ndarray.shape.html) property to figure out how many elements are in the array.\n",
    "\n"
   ]
  },
  {
   "cell_type": "code",
   "execution_count": 11,
   "metadata": {
    "scrolled": true
   },
   "outputs": [
    {
     "name": "stdout",
     "output_type": "stream",
     "text": [
      "(4,)\n",
      "(2, 3)\n"
     ]
    }
   ],
   "source": [
    "vector = np.array([1, 2, 3, 4])\n",
    "print(vector.shape)\n",
    "\n",
    "matrix = np.array([[5, 10, 15], [20, 25, 30]])\n",
    "print(matrix.shape)"
   ]
  },
  {
   "cell_type": "code",
   "execution_count": null,
   "metadata": {},
   "outputs": [],
   "source": [
    "# Put your code here\n",
    "\n",
    "# 1. Force the variable vector to a \"column vector\"  tip: attribute vector.shape for a tuple \n",
    "# 2. Transpose the matrix forcing the shape of matrix to (3,2)"
   ]
  },
  {
   "cell_type": "markdown",
   "metadata": {},
   "source": [
    "### 1.3 Using numpy\n",
    "\n",
    "We can read in datasets using the [numpy.genfromtxt()](http://docs.scipy.org/doc/numpy-1.10.0/reference/generated/numpy.genfromtxt.html) function. Our dataset, <span style=\"background-color: #F9EBEA; color:##C0392B\">world_alcohol.csv</span> is a comma separated value dataset. We can specify the delimiter using the delimiter parameter:\n",
    "\n",
    ">```python\n",
    "import numpy\n",
    "data = numpy.genfromtxt(\"data.csv\", delimiter=\",\")\n",
    "```\n",
    "\n",
    "**\"world_alcohol.csv'**\n",
    "\n",
    "Here's what each column represents:\n",
    "\n",
    "-  <span style=\"background-color: #F9EBEA; color:##C0392B\">Year</span> -- the year the data in the row is for.\n",
    "-  <span style=\"background-color: #F9EBEA; color:##C0392B\">WHO Region</span> -- the region in which the country is located.\n",
    "-  <span style=\"background-color: #F9EBEA; color:##C0392B\">Country</span> -- the country the data is for.\n",
    "-  <span style=\"background-color: #F9EBEA; color:##C0392B\">Beverage Types</span> -- the type of beverage the data is for.\n",
    "-  <span style=\"background-color: #F9EBEA; color:##C0392B\">Display Value</span> -- the number of liters, on average, of the beverage type a citizen of the country drank in the given year.\n",
    "\n"
   ]
  },
  {
   "cell_type": "code",
   "execution_count": 2,
   "metadata": {},
   "outputs": [
    {
     "name": "stdout",
     "output_type": "stream",
     "text": [
      "<class 'numpy.ndarray'>\n"
     ]
    }
   ],
   "source": [
    "import numpy as np\n",
    "world_alcohol = np.genfromtxt(\"world_alcohol.csv\", delimiter=',')\n",
    "print(type(world_alcohol))"
   ]
  },
  {
   "cell_type": "markdown",
   "metadata": {},
   "source": [
    "Each value in a NumPy array has to have the same data type. NumPy data types are similar to Python data types, but have slight differences. You can find a full list of NumPy data types [here](http://docs.scipy.org/doc/numpy-1.10.1/user/basics.types.html). "
   ]
  },
  {
   "cell_type": "code",
   "execution_count": 13,
   "metadata": {},
   "outputs": [
    {
     "name": "stdout",
     "output_type": "stream",
     "text": [
      "float64\n"
     ]
    }
   ],
   "source": [
    "print(world_alcohol.dtype)"
   ]
  },
  {
   "cell_type": "markdown",
   "metadata": {},
   "source": [
    "### 1.4 Inspecting the data\n",
    "\n",
    "Here's how NumPy represents the first few rows of the dataset:\n",
    "\n",
    ">```python\n",
    "array([[             nan,              nan,              nan,              nan,              nan],\n",
    "       [  1.98600000e+03,              nan,              nan,              nan,   0.00000000e+00],\n",
    "       [  1.98600000e+03,              nan,              nan,              nan,   5.00000000e-01]])\n",
    "```"
   ]
  },
  {
   "cell_type": "code",
   "execution_count": null,
   "metadata": {},
   "outputs": [],
   "source": [
    "world_alcohol"
   ]
  },
  {
   "cell_type": "markdown",
   "metadata": {},
   "source": [
    "There are a few concepts we haven't been introduced to yet that we'll dive into into:\n",
    "\n",
    "- Many items in <span style=\"background-color: #F9EBEA; color:##C0392B\">world_alcohol</span> are <span style=\"background-color: #F9EBEA; color:##C0392B\">nan</span>, including the entire first row. <span style=\"background-color: #F9EBEA; color:##C0392B\">nan</span>, which stands for **\"not a number\"**, is a data type used to represent missing values.\n",
    "- Some of the numbers are written like <span style=\"background-color: #F9EBEA; color:##C0392B\">1.98600000e+03</span>.\n",
    "\n",
    "The data type of <span style=\"background-color: #F9EBEA; color:##C0392B\">world_alcohol</span> is float. Because all of the values in a **NumPy array have to have the same data type**, NumPy attempted to convert all of the columns to floats when they were read in. The <span style=\"background-color: #F9EBEA; color:##C0392B\">numpy.genfromtxt()</span> function will attempt to guess the correct data type of the array it creates.\n",
    "\n",
    "In this case, the **WHO Region**, **Country**, and **Beverage Types** columns are actually <span style=\"background-color: #F9EBEA; color:##C0392B\">strings</span>, and couldn't be converted to <span style=\"background-color: #F9EBEA; color:##C0392B\">floats</span>. When NumPy can't convert a value to a numeric data type like float or integer, it uses a special nan value that stands for **\"not a number\"**. NumPy assigns an <span style=\"background-color: #F9EBEA; color:##C0392B\">na</span> value, which stands for \"not available\", when the value doesn't exist. <span style=\"background-color: #F9EBEA; color:##C0392B\">nan</span> and <span style=\"background-color: #F9EBEA; color:##C0392B\">na</span> values are types of missing data. We'll dive more into how to deal with missing data in later classes.\n",
    "\n",
    "The whole first row of <span style=\"background-color: #F9EBEA; color:##C0392B\">world_alcohol.csv</span> is a header row that contains the names of each column. This is not actually part of the data, and consists entirely of strings. Since the strings couldn't be converted to floats properly, NumPy uses nan values to represent them.\n",
    "\n",
    "### 1.5 Reading the data correctly\n",
    "\n",
    "When reading in the data using the [numpy.genfromtxt()](http://docs.scipy.org/doc/numpy-1.10.0/reference/generated/numpy.genfromtxt.html) function, we can use parameters to customize how we want the data to be read in. While we're at it, we can also specify that we want to skip the header row of <span style=\"background-color: #F9EBEA; color:##C0392B\">world_alcohol.csv</span>.\n",
    "\n",
    "To specify the data type for the entire NumPy array, we use the keyword argument dtype and set it to <span style=\"background-color: #F9EBEA; color:##C0392B\">\"U75\"</span>. This specifies that we want to read in each value as a 75 byte unicode data type. We'll dive more into unicode and bytes later on, but for now, it's enough to know that this will read in our data properly.\n",
    "\n",
    "To skip the header when reading in the data, we use the skip_header parameter. The <span style=\"background-color: #F9EBEA; color:##C0392B\">skip_header</span> parameter accepts an integer value, specifying the number of lines from the top of the file we want NumPy to ignore.\n"
   ]
  },
  {
   "cell_type": "code",
   "execution_count": 3,
   "metadata": {
    "scrolled": true
   },
   "outputs": [],
   "source": [
    "world_alcohol = np.genfromtxt(\"world_alcohol.csv\", delimiter=\",\", dtype=\"U75\", skip_header=1)"
   ]
  },
  {
   "cell_type": "code",
   "execution_count": 30,
   "metadata": {
    "scrolled": true
   },
   "outputs": [
    {
     "data": {
      "text/plain": [
       "array([['1986', 'Western Pacific', 'Viet Nam', 'Wine', '0'],\n",
       "       ['1986', 'Americas', 'Uruguay', 'Other', '0.5'],\n",
       "       ['1985', 'Africa', \"Cte d'Ivoire\", 'Wine', '1.62'],\n",
       "       ...,\n",
       "       ['1986', 'Europe', 'Switzerland', 'Spirits', '2.54'],\n",
       "       ['1987', 'Western Pacific', 'Papua New Guinea', 'Other', '0'],\n",
       "       ['1986', 'Africa', 'Swaziland', 'Other', '5.15']], dtype='<U75')"
      ]
     },
     "execution_count": 30,
     "metadata": {},
     "output_type": "execute_result"
    }
   ],
   "source": [
    "world_alcohol"
   ]
  },
  {
   "cell_type": "code",
   "execution_count": 6,
   "metadata": {},
   "outputs": [
    {
     "data": {
      "text/plain": [
       "array(['2.54', '0', '5.15'], dtype='<U75')"
      ]
     },
     "execution_count": 6,
     "metadata": {},
     "output_type": "execute_result"
    }
   ],
   "source": [
    "world_alcohol[-3:, -1]"
   ]
  },
  {
   "cell_type": "code",
   "execution_count": 27,
   "metadata": {},
   "outputs": [
    {
     "data": {
      "text/plain": [
       "array([['0', '1986', 'Viet Nam', 'Western Pacific', 'Wine'],\n",
       "       ['0.5', '1986', 'Americas', 'Other', 'Uruguay'],\n",
       "       ['1.62', '1985', 'Africa', \"Cte d'Ivoire\", 'Wine'],\n",
       "       ...,\n",
       "       ['1986', '2.54', 'Europe', 'Spirits', 'Switzerland'],\n",
       "       ['0', '1987', 'Other', 'Papua New Guinea', 'Western Pacific'],\n",
       "       ['1986', '5.15', 'Africa', 'Other', 'Swaziland']], dtype='<U75')"
      ]
     },
     "execution_count": 27,
     "metadata": {},
     "output_type": "execute_result"
    }
   ],
   "source": [
    "world_alcohol"
   ]
  },
  {
   "cell_type": "code",
   "execution_count": 8,
   "metadata": {},
   "outputs": [],
   "source": [
    "wine_countries = []\n",
    "for i in world_alcohol:\n",
    "    country = i[2]\n",
    "    if(i[3] == 'Wine'):\n",
    "        wine_countries.append([i[2],(i[4])])\n",
    "    else:\n",
    "        pass"
   ]
  },
  {
   "cell_type": "code",
   "execution_count": 5,
   "metadata": {
    "collapsed": true
   },
   "outputs": [
    {
     "data": {
      "text/plain": [
       "[['Viet Nam', '0'],\n",
       " [\"Cte d'Ivoire\", '1.62'],\n",
       " ['Mauritius', '0.13'],\n",
       " ['Botswana', '0.2'],\n",
       " ['Guinea-Bissau', '0.07'],\n",
       " ['Costa Rica', '0.06'],\n",
       " ['Myanmar', '0'],\n",
       " ['United Kingdom of Great Britain and Northern Ireland', '1.36'],\n",
       " ['Micronesia (Federated States of)', '0'],\n",
       " ['Russian Federation', '0.8'],\n",
       " ['China', '0.03'],\n",
       " ['Malta', '1.49'],\n",
       " ['Saudi Arabia', '0'],\n",
       " ['Suriname', '0.04'],\n",
       " ['Viet Nam', '0'],\n",
       " ['Croatia', '5.1'],\n",
       " ['Iraq', '0.01'],\n",
       " ['Netherlands', '2.54'],\n",
       " ['Democratic Republic of the Congo', '0.01'],\n",
       " ['Bahamas', '1.83'],\n",
       " ['Iraq', '0.01'],\n",
       " ['Lebanon', '0.7'],\n",
       " ['Malawi', '0.01'],\n",
       " ['Luxembourg', '7.38'],\n",
       " ['Indonesia', '0'],\n",
       " ['Equatorial Guinea', '0'],\n",
       " [\"Democratic People's Republic of Korea\", '0'],\n",
       " ['Nicaragua', '0.01'],\n",
       " ['Chile', '6.36'],\n",
       " ['Paraguay', '0.36'],\n",
       " ['Pakistan', '0'],\n",
       " ['Greece', '4.12'],\n",
       " ['Belgium', '3.08'],\n",
       " ['Kyrgyzstan', '0.72'],\n",
       " ['Namibia', '0'],\n",
       " ['Zambia', '0.01'],\n",
       " ['Gambia', '0.09'],\n",
       " ['Uganda', '0'],\n",
       " ['Iraq', '0.01'],\n",
       " ['Saint Kitts and Nevis', '0.43'],\n",
       " ['Zimbabwe', '0.03'],\n",
       " ['Venezuela (Bolivarian Republic of)', '0.13'],\n",
       " ['Ecuador', '0.05'],\n",
       " ['Yemen', '0'],\n",
       " ['France', '10.24'],\n",
       " ['Cabo Verde', '1.69'],\n",
       " ['Vanuatu', '0.64'],\n",
       " ['Philippines', '0.01'],\n",
       " ['Bulgaria', '3.02'],\n",
       " ['Brunei Darussalam', '0.15'],\n",
       " ['Central African Republic', '0.43'],\n",
       " ['Sri Lanka', '0'],\n",
       " ['Lithuania', ''],\n",
       " ['Comoros', '0.09'],\n",
       " ['Congo', '0.01'],\n",
       " ['Australia', '3.34'],\n",
       " ['Bahamas', '1.9'],\n",
       " ['Morocco', '0.25'],\n",
       " ['Belarus', ''],\n",
       " ['Zambia', '0.05'],\n",
       " ['Algeria', '0.1'],\n",
       " ['Canada', '1.27'],\n",
       " ['Cameroon', '0.08'],\n",
       " ['Zambia', '0'],\n",
       " ['Bangladesh', '0'],\n",
       " ['United Arab Emirates', '0.21'],\n",
       " ['Kyrgyzstan', '0.71'],\n",
       " ['Uruguay', '3.72'],\n",
       " ['Madagascar', '0.19'],\n",
       " ['Fiji', '0.13'],\n",
       " ['Somalia', '0'],\n",
       " ['Uganda', '0'],\n",
       " ['Malaysia', '0.03'],\n",
       " ['Portugal', '10.9'],\n",
       " ['Costa Rica', '0.07'],\n",
       " [\"Lao People's Democratic Republic\", '0'],\n",
       " ['Swaziland', '0'],\n",
       " ['Gabon', '5'],\n",
       " ['Fiji', '0.11'],\n",
       " ['Mongolia', '0'],\n",
       " ['Qatar', '0'],\n",
       " ['Japan', '0.09'],\n",
       " ['Mauritius', '0.11'],\n",
       " ['Venezuela (Bolivarian Republic of)', '0.08'],\n",
       " ['Nepal', '0'],\n",
       " ['Egypt', '0.01'],\n",
       " ['Malawi', '0.01'],\n",
       " ['Afghanistan', '0'],\n",
       " ['Cambodia', '0'],\n",
       " ['Peru', '0.11'],\n",
       " ['Eritrea', '0'],\n",
       " ['Ecuador', '0.02'],\n",
       " ['Mexico', '0.06'],\n",
       " ['Uruguay', '3.3'],\n",
       " ['Venezuela (Bolivarian Republic of)', '0.14'],\n",
       " ['Iran (Islamic Republic of)', '0'],\n",
       " ['Finland', '0.88'],\n",
       " ['Uruguay', '4.42'],\n",
       " ['Mali', '0.01'],\n",
       " ['Kenya', '0'],\n",
       " ['Nepal', '0'],\n",
       " ['Solomon Islands', '0.04'],\n",
       " ['Belize', '0.18'],\n",
       " ['Jamaica', '0.06'],\n",
       " ['Dominican Republic', '0.04'],\n",
       " ['Mauritius', '0.05'],\n",
       " ['Guyana', '0'],\n",
       " ['Pakistan', '0'],\n",
       " ['Mozambique', '0.01'],\n",
       " ['Bhutan', '0'],\n",
       " ['Swaziland', '1.03'],\n",
       " ['Libya', '0'],\n",
       " ['Saudi Arabia', '0'],\n",
       " ['Equatorial Guinea', '0'],\n",
       " ['Bahrain', '0.56'],\n",
       " ['Bolivia (Plurinational State of)', '0.09'],\n",
       " ['India', '0'],\n",
       " ['El Salvador', '0.04'],\n",
       " ['Yemen', '0'],\n",
       " ['Costa Rica', '0.1'],\n",
       " ['Austria', '5.1'],\n",
       " ['Luxembourg', '6.97'],\n",
       " ['Paraguay', '0.36'],\n",
       " ['Denmark', '2.55'],\n",
       " ['Yemen', '0'],\n",
       " ['South Africa', '1.73'],\n",
       " ['Chad', '0.04'],\n",
       " ['Namibia', '0'],\n",
       " ['Dominican Republic', '0.06'],\n",
       " ['Central African Republic', '0.36'],\n",
       " ['Benin', '0.09'],\n",
       " ['Thailand', '0'],\n",
       " ['Israel', '0.61'],\n",
       " ['Honduras', '0.02'],\n",
       " ['Philippines', '0'],\n",
       " ['Russian Federation', '1.65'],\n",
       " ['Argentina', '10.1'],\n",
       " ['Canada', '1.3'],\n",
       " ['Angola', '0.82'],\n",
       " ['Bolivia (Plurinational State of)', '0.1'],\n",
       " ['Malta', '1.17'],\n",
       " ['Bolivia (Plurinational State of)', '0.09'],\n",
       " ['Zimbabwe', '0.04'],\n",
       " ['Venezuela (Bolivarian Republic of)', '0.14'],\n",
       " ['Netherlands', '2.45'],\n",
       " ['Spain', '6.65'],\n",
       " ['Philippines', '0'],\n",
       " ['Latvia', '2.59'],\n",
       " ['Malta', '1.26'],\n",
       " ['Mongolia', '0'],\n",
       " ['Bulgaria', '3.28'],\n",
       " ['Malaysia', '0.02'],\n",
       " ['Swaziland', '0'],\n",
       " ['Kiribati', '0.04'],\n",
       " ['United Republic of Tanzania', '0'],\n",
       " [\"Democratic People's Republic of Korea\", '0'],\n",
       " ['Italy', '11.2'],\n",
       " ['Liberia', '0.02'],\n",
       " ['Guinea-Bissau', '0.04'],\n",
       " ['Iceland', '1.03'],\n",
       " ['Finland', '0.85'],\n",
       " ['Zimbabwe', '0.05'],\n",
       " ['Comoros', '0.05'],\n",
       " ['Dominican Republic', '0.03'],\n",
       " ['Benin', '0.12'],\n",
       " ['China', '0.02'],\n",
       " ['Peru', '0.11'],\n",
       " ['Bhutan', '0'],\n",
       " ['Burkina Faso', '0.01'],\n",
       " ['Belize', '0.15'],\n",
       " ['Chile', '5.14'],\n",
       " ['Germany', '3.66'],\n",
       " ['Cameroon', '0.08'],\n",
       " ['Djibouti', '0.52'],\n",
       " ['Portugal', '13.5'],\n",
       " ['Norway', '0.83'],\n",
       " ['Sierra Leone', '0.01'],\n",
       " ['Rwanda', '0.01'],\n",
       " ['Botswana', '0.95'],\n",
       " ['Iran (Islamic Republic of)', '0'],\n",
       " ['Democratic Republic of the Congo', '0'],\n",
       " ['Brunei Darussalam', '0.94'],\n",
       " ['Hungary', '3.32'],\n",
       " ['Hungary', '3.44'],\n",
       " ['Germany', '3.7'],\n",
       " ['Papua New Guinea', '0.04'],\n",
       " ['Brunei Darussalam', '0.51'],\n",
       " ['Malawi', '0'],\n",
       " ['Sudan', '0'],\n",
       " [\"Lao People's Democratic Republic\", '1.13'],\n",
       " ['Turkey', '0.07'],\n",
       " ['Mongolia', '0'],\n",
       " ['Venezuela (Bolivarian Republic of)', '0.12'],\n",
       " ['United Arab Emirates', '0.15'],\n",
       " ['Lithuania', ''],\n",
       " ['Latvia', '1.05'],\n",
       " ['Brunei Darussalam', '0.1'],\n",
       " ['Sweden', '1.55'],\n",
       " ['Mauritania', '0'],\n",
       " ['Pakistan', '0'],\n",
       " ['Trinidad and Tobago', '0.16'],\n",
       " ['Brazil', '0.35'],\n",
       " ['Guyana', '0'],\n",
       " ['Romania', '4.11'],\n",
       " ['Czech Republic', '1.95'],\n",
       " ['Djibouti', '0.27'],\n",
       " ['Burkina Faso', '0.02'],\n",
       " ['Uruguay', '3.85'],\n",
       " ['Cameroon', '0.09'],\n",
       " ['Denmark', '2.66'],\n",
       " ['Nigeria', '0'],\n",
       " ['Netherlands', '2.48'],\n",
       " ['Turkey', '0.07'],\n",
       " ['Guatemala', '0.01'],\n",
       " ['Peru', '0.11'],\n",
       " ['Burundi', '0.01'],\n",
       " ['Egypt', '0.01'],\n",
       " ['Belgium', '3.11'],\n",
       " ['Myanmar', '0'],\n",
       " ['United States of America', '1.4'],\n",
       " ['Sao Tome and Principe', '1.89'],\n",
       " ['Chad', '0.02'],\n",
       " ['Cabo Verde', '1.39'],\n",
       " ['Guyana', '0'],\n",
       " ['South Africa', '1.69'],\n",
       " ['Spain', '6.86'],\n",
       " ['Netherlands', '2.6'],\n",
       " ['Peru', '0.11'],\n",
       " ['Bangladesh', '0'],\n",
       " ['Malawi', '0.01'],\n",
       " ['Saudi Arabia', '0'],\n",
       " ['Kiribati', '0.04'],\n",
       " ['United Republic of Tanzania', '0'],\n",
       " ['Rwanda', '0.01'],\n",
       " ['Botswana', '0.16'],\n",
       " ['Saint Kitts and Nevis', '0.23'],\n",
       " ['Czech Republic', '2.24'],\n",
       " ['Argentina', '10.45'],\n",
       " ['Kenya', '0'],\n",
       " ['Bahamas', '1.5'],\n",
       " ['United Republic of Tanzania', '0'],\n",
       " ['Iran (Islamic Republic of)', '0'],\n",
       " ['Antigua and Barbuda', '0.34'],\n",
       " ['Guinea', '0.02'],\n",
       " ['Senegal', '0.32'],\n",
       " ['Democratic Republic of the Congo', '0'],\n",
       " ['Bahamas', '1.92'],\n",
       " ['Pakistan', '0'],\n",
       " ['Namibia', '0'],\n",
       " ['Algeria', '0.23'],\n",
       " ['Bulgaria', '3.13'],\n",
       " ['Japan', '0.17'],\n",
       " ['Czech Republic', '1.76'],\n",
       " ['Nepal', '0'],\n",
       " ['Gabon', '2.43'],\n",
       " ['Russian Federation', '2.06'],\n",
       " ['Afghanistan', '0'],\n",
       " ['Chile', '5.96'],\n",
       " ['Gabon', '5.4'],\n",
       " ['Somalia', '0'],\n",
       " ['Bulgaria', '3.08'],\n",
       " ['Australia', '3.43'],\n",
       " ['Syrian Arab Republic', '0.83'],\n",
       " ['Kenya', '0.01'],\n",
       " ['Bangladesh', '0'],\n",
       " ['Trinidad and Tobago', '0.13'],\n",
       " ['Cambodia', '0'],\n",
       " ['China', '0.02'],\n",
       " ['India', '0'],\n",
       " ['Honduras', '0.01'],\n",
       " ['Sudan', '0'],\n",
       " ['Haiti', '0.03'],\n",
       " ['Israel', '0.63'],\n",
       " ['Chad', '0.05'],\n",
       " ['Ireland', '0.59'],\n",
       " ['Guinea', '0.01'],\n",
       " ['Netherlands', '2.59'],\n",
       " ['Republic of Korea', '0'],\n",
       " ['Afghanistan', '0'],\n",
       " ['Sao Tome and Principe', '0.75'],\n",
       " ['El Salvador', '0.01'],\n",
       " ['Bahamas', '2.16'],\n",
       " ['Viet Nam', '0'],\n",
       " ['Iceland', '1.19'],\n",
       " ['Honduras', '0.02'],\n",
       " ['Cuba', '0.06'],\n",
       " ['Sweden', '1.6'],\n",
       " [\"Cte d'Ivoire\", '1.26'],\n",
       " ['Panama', '0.13'],\n",
       " ['Lesotho', '0.05'],\n",
       " ['Saint Lucia', '0.81'],\n",
       " ['Norway', '0.82'],\n",
       " ['Saint Kitts and Nevis', '0.62'],\n",
       " ['Zimbabwe', '0.03'],\n",
       " ['Senegal', '0.22'],\n",
       " ['Qatar', '0'],\n",
       " ['Finland', '0.83'],\n",
       " ['Antigua and Barbuda', '1.3'],\n",
       " ['Latvia', '2.34'],\n",
       " ['Ethiopia', '0'],\n",
       " ['United Kingdom of Great Britain and Northern Ireland', '1.78'],\n",
       " ['Sweden', '1.67'],\n",
       " ['Syrian Arab Republic', '0.64'],\n",
       " ['Jordan', '0.01'],\n",
       " ['Guatemala', '0.03'],\n",
       " ['Suriname', '0.09'],\n",
       " ['Luxembourg', '6.99'],\n",
       " ['Malawi', '0.01'],\n",
       " ['Iceland', '0.67'],\n",
       " ['Mauritius', '0.06'],\n",
       " ['Mozambique', '0.03'],\n",
       " ['Algeria', '0.12'],\n",
       " ['Switzerland', '7.21'],\n",
       " ['Cuba', '0.04'],\n",
       " ['Belgium', '3.09'],\n",
       " ['Japan', '0.09'],\n",
       " ['Ireland', '0.57'],\n",
       " ['Solomon Islands', '0.05'],\n",
       " ['Sierra Leone', '0.01'],\n",
       " ['Saudi Arabia', '0'],\n",
       " ['Seychelles', '0.5'],\n",
       " ['Burkina Faso', '0'],\n",
       " ['Nicaragua', '0'],\n",
       " [\"Democratic People's Republic of Korea\", '0'],\n",
       " ['Mozambique', '0.02'],\n",
       " ['Spain', '6.94'],\n",
       " ['Tunisia', '0.59'],\n",
       " ['New Zealand', '2.43'],\n",
       " ['Indonesia', '0'],\n",
       " ['Belize', '0.17'],\n",
       " ['Denmark', '2.79'],\n",
       " ['Egypt', '0.01'],\n",
       " ['New Zealand', '2.1'],\n",
       " ['Sri Lanka', '0'],\n",
       " ['Cyprus', '1.9'],\n",
       " ['Togo', '0.22'],\n",
       " ['Switzerland', '7.16'],\n",
       " ['Portugal', '9.48'],\n",
       " ['Cyprus', '2.18'],\n",
       " ['Latvia', '1.19'],\n",
       " ['Ghana', '0'],\n",
       " ['Congo', '0.01'],\n",
       " ['Sierra Leone', '0.01'],\n",
       " ['Romania', '4.09'],\n",
       " ['Seychelles', '0.43'],\n",
       " ['Germany', '3.66'],\n",
       " [\"Cte d'Ivoire\", '1.01'],\n",
       " ['Denmark', '2.56'],\n",
       " ['Cabo Verde', '2.13'],\n",
       " ['Rwanda', '0.01'],\n",
       " ['Fiji', '0.11'],\n",
       " ['Saint Lucia', '0.57'],\n",
       " ['Papua New Guinea', '0.04'],\n",
       " ['Liberia', '0.02'],\n",
       " ['Sao Tome and Principe', '0.94'],\n",
       " ['Poland', '1.22'],\n",
       " ['Yemen', '0'],\n",
       " ['Turkey', '0.18'],\n",
       " ['Comoros', '0.13'],\n",
       " ['Iran (Islamic Republic of)', '0'],\n",
       " ['Saint Lucia', '0.76'],\n",
       " ['Slovenia', '10.78'],\n",
       " ['Madagascar', '0.19'],\n",
       " ['Equatorial Guinea', '2.07'],\n",
       " ['Viet Nam', '0'],\n",
       " ['Lithuania', ''],\n",
       " ['Djibouti', '0.34'],\n",
       " ['Burkina Faso', '0.02'],\n",
       " ['Sudan', '0'],\n",
       " ['Sri Lanka', '0'],\n",
       " ['Ireland', '0.6'],\n",
       " ['Seychelles', '0.28'],\n",
       " ['United States of America', '1.48'],\n",
       " ['Eritrea', '0'],\n",
       " ['Ukraine', '1.01'],\n",
       " ['Poland', '1.24'],\n",
       " ['Belize', ''],\n",
       " ['Vanuatu', '0.9'],\n",
       " ['Malaysia', '0.01'],\n",
       " ['Honduras', '0.02'],\n",
       " ['Benin', '0.08'],\n",
       " ['Switzerland', '7.14'],\n",
       " ['Mexico', '0.06'],\n",
       " ['Mauritius', '0.13'],\n",
       " ['Trinidad and Tobago', '0.08'],\n",
       " ['United Kingdom of Great Britain and Northern Ireland', '1.31'],\n",
       " ['Sierra Leone', '0.01'],\n",
       " ['Samoa', '0.01'],\n",
       " ['Democratic Republic of the Congo', '0.01'],\n",
       " ['Denmark', '2.75'],\n",
       " ['Saint Kitts and Nevis', '0.46'],\n",
       " ['Lesotho', '0.04'],\n",
       " ['Kenya', '0.01'],\n",
       " ['Congo', '0'],\n",
       " ['Colombia', '0.15'],\n",
       " ['Rwanda', '0.01'],\n",
       " ['Cuba', '0.06'],\n",
       " ['Bolivia (Plurinational State of)', '0.09'],\n",
       " ['Lesotho', '0.06'],\n",
       " ['Antigua and Barbuda', '0.31'],\n",
       " ['Malta', '1.24'],\n",
       " ['United Republic of Tanzania', '0'],\n",
       " ['Zambia', '0.01'],\n",
       " ['Iceland', '1.01'],\n",
       " ['Congo', '0.01'],\n",
       " ['Paraguay', '0.35'],\n",
       " ['Cambodia', '0'],\n",
       " ['Lesotho', '0.13'],\n",
       " ['Sao Tome and Principe', '2.4'],\n",
       " ['Madagascar', '0.19'],\n",
       " ['Mauritania', '0.02'],\n",
       " ['Jordan', '0.01'],\n",
       " ['Ghana', '0'],\n",
       " ['Belarus', ''],\n",
       " ['Czech Republic', '1.96'],\n",
       " ['Cambodia', '0'],\n",
       " [\"Lao People's Democratic Republic\", '0'],\n",
       " ['Ecuador', '0.04'],\n",
       " ['Singapore', '0.07'],\n",
       " ['Brazil', '0.44'],\n",
       " ['United States of America', '1.29'],\n",
       " ['Haiti', '0.01'],\n",
       " ['Gambia', '0.14'],\n",
       " ['Republic of Korea', '0'],\n",
       " ['Democratic Republic of the Congo', '0.01'],\n",
       " ['Jordan', '0'],\n",
       " ['United Kingdom of Great Britain and Northern Ireland', '1.41'],\n",
       " ['Congo', '0'],\n",
       " ['Gambia', '0.1'],\n",
       " ['Romania', '4.07'],\n",
       " ['Lesotho', '0.05'],\n",
       " ['Thailand', '0'],\n",
       " ['Sudan', '0'],\n",
       " ['Cambodia', '0'],\n",
       " ['Austria', '4.9'],\n",
       " ['Mauritania', '0.01'],\n",
       " ['Morocco', '0.3'],\n",
       " ['Central African Republic', '0.22'],\n",
       " ['Ukraine', '0.99'],\n",
       " ['Libya', '0'],\n",
       " ['Angola', '0.83'],\n",
       " ['Nigeria', '0'],\n",
       " ['Namibia', '0'],\n",
       " ['Togo', '0.17'],\n",
       " ['Finland', '0.89'],\n",
       " ['Vanuatu', '0.55'],\n",
       " ['Jamaica', '0.01'],\n",
       " ['Republic of Korea', '0'],\n",
       " ['El Salvador', '0.02'],\n",
       " ['United Kingdom of Great Britain and Northern Ireland', '1.65'],\n",
       " ['Albania', '0.41'],\n",
       " ['Trinidad and Tobago', '0.13'],\n",
       " ['Nicaragua', '0.01'],\n",
       " ['Greece', '4.41'],\n",
       " ['Saint Lucia', '0.47'],\n",
       " ['Cyprus', '1.91'],\n",
       " ['Colombia', '0.16'],\n",
       " ['Lebanon', '0.78'],\n",
       " ['Jamaica', '0'],\n",
       " ['Benin', '0.11'],\n",
       " ['Guinea-Bissau', '0.13'],\n",
       " ['Burundi', '0.01'],\n",
       " ['Libya', '0'],\n",
       " ['Austria', '4.6'],\n",
       " ['Equatorial Guinea', '1.3'],\n",
       " ['Belarus', '1.34'],\n",
       " ['Thailand', '0'],\n",
       " ['Zambia', '0.01'],\n",
       " ['Libya', '0'],\n",
       " ['United Arab Emirates', '0.11'],\n",
       " ['Costa Rica', '0.08'],\n",
       " ['Israel', '0.56'],\n",
       " ['Eritrea', '0'],\n",
       " ['Guinea', '0.01'],\n",
       " ['Bhutan', '0'],\n",
       " ['Suriname', '0.09'],\n",
       " ['Micronesia (Federated States of)', '0'],\n",
       " ['Liberia', '0.02'],\n",
       " ['Belarus', ''],\n",
       " ['Mali', '0'],\n",
       " ['Cameroon', '0.13'],\n",
       " ['Poland', '1.29'],\n",
       " ['Suriname', '0.25'],\n",
       " ['Slovenia', '10.12'],\n",
       " ['Panama', '0.07'],\n",
       " ['Australia', '2.92'],\n",
       " ['Bhutan', '0'],\n",
       " [\"Democratic People's Republic of Korea\", '0'],\n",
       " ['Senegal', '0.19'],\n",
       " ['Spain', '5.33'],\n",
       " ['Slovakia', '2.1'],\n",
       " [\"Lao People's Democratic Republic\", '0'],\n",
       " ['Solomon Islands', '0.06'],\n",
       " ['Nepal', '0'],\n",
       " ['Zimbabwe', '0.04'],\n",
       " ['Somalia', '0'],\n",
       " ['Austria', '4.7'],\n",
       " ['Colombia', '0.14'],\n",
       " ['Bulgaria', '2.82'],\n",
       " ['Bahrain', '0.24'],\n",
       " ['Slovakia', '2.55'],\n",
       " ['Russian Federation', '0.93'],\n",
       " ['South Africa', '1.74'],\n",
       " ['Switzerland', '7.04'],\n",
       " ['Spain', '6.45'],\n",
       " ['Guyana', '0'],\n",
       " ['Colombia', '0.12'],\n",
       " ['Romania', '2.44'],\n",
       " ['Norway', '0.97'],\n",
       " ['Burkina Faso', '0.01'],\n",
       " ['Japan', '0.09'],\n",
       " ['Poland', '1.3'],\n",
       " ['United Arab Emirates', '0.21'],\n",
       " ['Oman', '0'],\n",
       " ['Hungary', '3.81'],\n",
       " ['Oman', '0.08'],\n",
       " ['Germany', '3.74'],\n",
       " ['Guinea', '0.02'],\n",
       " ['Argentina', '10.3'],\n",
       " ['United States of America', '1.44'],\n",
       " ['Eritrea', '0'],\n",
       " ['South Africa', '1.61'],\n",
       " ['Burundi', '0.01'],\n",
       " ['Iraq', '0.01'],\n",
       " ['Luxembourg', '7.04'],\n",
       " ['United States of America', '1.44'],\n",
       " ['Kuwait', '0'],\n",
       " ['Tunisia', '0.58'],\n",
       " ['Philippines', '0'],\n",
       " ['China', '0.03'],\n",
       " ['El Salvador', '0.02'],\n",
       " ['Guyana', '0'],\n",
       " ['Portugal', '8.21'],\n",
       " ['Ukraine', '2.19'],\n",
       " ['South Africa', '1.66'],\n",
       " ['Nepal', '0'],\n",
       " ['Nicaragua', '0.01'],\n",
       " ['Nigeria', '0'],\n",
       " ['Hungary', '3.57'],\n",
       " ['Brazil', '0.31'],\n",
       " ['Kiribati', '0.01'],\n",
       " ['Iceland', '1.09'],\n",
       " ['United Arab Emirates', '0.13'],\n",
       " ['Uganda', '0'],\n",
       " ['Cabo Verde', '1.74'],\n",
       " ['Slovenia', '9.9'],\n",
       " ['Norway', '0.71'],\n",
       " ['Lithuania', ''],\n",
       " ['Bahrain', '0.22'],\n",
       " ['Mali', '0'],\n",
       " ['Papua New Guinea', '0.05'],\n",
       " [\"Democratic People's Republic of Korea\", '0'],\n",
       " ['Togo', '0.13'],\n",
       " ['Finland', '0.98'],\n",
       " ['Guinea-Bissau', '0.19'],\n",
       " ['Afghanistan', '0'],\n",
       " ['Brunei Darussalam', '0.15'],\n",
       " [\"Cte d'Ivoire\", '0.86'],\n",
       " ['Bahrain', '0.49'],\n",
       " ['Austria', '4.8'],\n",
       " ['Cyprus', '1.89'],\n",
       " ['Angola', '0.24'],\n",
       " ['Jamaica', '0.02'],\n",
       " ['Greece', '3.3'],\n",
       " ['Equatorial Guinea', '5.82'],\n",
       " ['Niger', '0.03'],\n",
       " ['Brazil', '0.49'],\n",
       " ['Viet Nam', '0'],\n",
       " ['Ghana', '0'],\n",
       " ['Algeria', '0.11'],\n",
       " ['Mozambique', '0.03'],\n",
       " ['Iran (Islamic Republic of)', '0'],\n",
       " ['Afghanistan', '0'],\n",
       " ['Mozambique', '0.03'],\n",
       " ['Cameroon', '0.12'],\n",
       " ['Mongolia', '0'],\n",
       " ['Russian Federation', '0.81'],\n",
       " ['Sao Tome and Principe', '0.65'],\n",
       " [\"Cte d'Ivoire\", '1.4'],\n",
       " ['Greece', '5.21'],\n",
       " ['Singapore', '0.07'],\n",
       " ['France', '11.1'],\n",
       " ['Libya', '0'],\n",
       " ['Panama', '0.14'],\n",
       " ['Canada', '1.24'],\n",
       " ['Ecuador', '0.03'],\n",
       " ['Germany', '3.32'],\n",
       " ['Turkey', '0.09'],\n",
       " ['Chad', '0.02'],\n",
       " ['Cuba', '0.05'],\n",
       " ['Greece', '6.16'],\n",
       " ['Togo', '0.19'],\n",
       " ['Guinea-Bissau', '0.42'],\n",
       " ['Ireland', '0.68'],\n",
       " ['Ethiopia', '0'],\n",
       " ['Samoa', '0.03'],\n",
       " ['Samoa', '0'],\n",
       " ['Indonesia', '0'],\n",
       " ['Burundi', '0.01'],\n",
       " ['Lebanon', '0.89'],\n",
       " ['Guatemala', '0.02'],\n",
       " ['Syrian Arab Republic', '0.6'],\n",
       " ['Somalia', '0'],\n",
       " ['Sri Lanka', '0'],\n",
       " ['Saint Kitts and Nevis', '0.19'],\n",
       " ['Portugal', '9.84'],\n",
       " ['Switzerland', '7.29'],\n",
       " ['Republic of Korea', '0.01'],\n",
       " ['France', '10.62'],\n",
       " ['Tunisia', '0.58'],\n",
       " ['Eritrea', '0'],\n",
       " ['Niger', '0.02'],\n",
       " ['Micronesia (Federated States of)', '0'],\n",
       " ['Tunisia', '0.57'],\n",
       " ['Norway', '0.93'],\n",
       " ['Jordan', '0.02'],\n",
       " ['Egypt', '0.01'],\n",
       " ['Dominican Republic', '0.02'],\n",
       " ['Kuwait', '0'],\n",
       " ['Djibouti', '0.38'],\n",
       " ['Argentina', '11.53'],\n",
       " ['Poland', '1.21'],\n",
       " ['Oman', '0'],\n",
       " ['Uganda', '0'],\n",
       " [\"Lao People's Democratic Republic\", '0'],\n",
       " ['Sudan', '0'],\n",
       " ['Gabon', '3.59'],\n",
       " ['Tunisia', '0.44'],\n",
       " ['Paraguay', '0.36'],\n",
       " ['Mexico', '0.04'],\n",
       " ['Ghana', '0'],\n",
       " ['Namibia', '0'],\n",
       " ['Kenya', '0.01'],\n",
       " ['Nigeria', '0.01'],\n",
       " ['India', '0'],\n",
       " ['Bahrain', '0.46'],\n",
       " ['Mauritania', '0.02'],\n",
       " ['Niger', '0.07'],\n",
       " ['Israel', '0.6'],\n",
       " ['Saudi Arabia', '0'],\n",
       " ['Italy', '8.27'],\n",
       " ['Antigua and Barbuda', '0.65'],\n",
       " ['Romania', '4.06'],\n",
       " ['Kuwait', '0'],\n",
       " ['Gambia', '0.03'],\n",
       " ['Malaysia', '0'],\n",
       " ['Egypt', '0.01'],\n",
       " ['India', '0'],\n",
       " ['Uganda', '0'],\n",
       " ['Chile', '4.43'],\n",
       " ['Liberia', '0.03'],\n",
       " ['Gabon', '6.14'],\n",
       " ['Hungary', '4.72'],\n",
       " ['Samoa', '0.02'],\n",
       " ['Luxembourg', '7.57'],\n",
       " ['Guatemala', '0.02'],\n",
       " ['Uruguay', '3.65'],\n",
       " ['Botswana', '0.19'],\n",
       " ['Mali', '0.01'],\n",
       " ['Slovenia', '7.56'],\n",
       " ['Albania', '0.25'],\n",
       " ['Lebanon', '0.63'],\n",
       " ['Guinea', '0.04'],\n",
       " ['Haiti', '0.02'],\n",
       " ['Niger', '0.02'],\n",
       " ['Slovenia', '8.63'],\n",
       " ['Mali', '0.01'],\n",
       " ['Honduras', '0.02'],\n",
       " ['Albania', '0.24'],\n",
       " ['Slovakia', '2.42'],\n",
       " ['Myanmar', '0'],\n",
       " ['Cyprus', '2.12'],\n",
       " ['Morocco', '0.3'],\n",
       " ['Ukraine', '0.9'],\n",
       " ['Jamaica', '0.02'],\n",
       " ['Albania', '0.23'],\n",
       " ['Kuwait', '0'],\n",
       " ['Turkey', '0.07'],\n",
       " ['France', '10.42'],\n",
       " ['Belgium', '2.93'],\n",
       " ['Cuba', '0.07'],\n",
       " ['Panama', '0.11'],\n",
       " ['Ukraine', '1.81'],\n",
       " ['Oman', '0.02'],\n",
       " ['Ghana', '0'],\n",
       " ['Ethiopia', '0'],\n",
       " ['Sierra Leone', '0.01'],\n",
       " ['Suriname', '0.04'],\n",
       " ['India', '0'],\n",
       " ['Czech Republic', '2.3'],\n",
       " ['Singapore', '0.07'],\n",
       " ['New Zealand', '2.04'],\n",
       " ['Myanmar', '0'],\n",
       " ['Israel', '0.47'],\n",
       " ['Pakistan', '0'],\n",
       " ['Japan', '0.11'],\n",
       " ['Philippines', '0'],\n",
       " ['Botswana', '0.31'],\n",
       " ['Sweden', '1.57'],\n",
       " ['Lithuania', ''],\n",
       " ['Dominican Republic', '0.04'],\n",
       " ['Swaziland', '0'],\n",
       " ['Burundi', '0.01'],\n",
       " ['Belgium', '3.1'],\n",
       " ['Haiti', '0.02'],\n",
       " ['Chad', '0.01'],\n",
       " ['Kiribati', '0.03'],\n",
       " ['Costa Rica', '0.05'],\n",
       " ['Sweden', '1.55'],\n",
       " ['Senegal', '0.33'],\n",
       " ['Italy', '9.39'],\n",
       " ['Morocco', '0.3'],\n",
       " ['France', '11.45'],\n",
       " ['Liberia', '0.02'],\n",
       " ['Malta', '1.89'],\n",
       " ['Australia', '3.47'],\n",
       " ['Micronesia (Federated States of)', '0'],\n",
       " ['Solomon Islands', '0.06'],\n",
       " ['Croatia', '6.58'],\n",
       " ['Algeria', '0.1'],\n",
       " ['Italy', '10.29'],\n",
       " ['Albania', '0.46'],\n",
       " ['Central African Republic', '0.17'],\n",
       " ['Colombia', '0.12'],\n",
       " ['Mexico', '0.06'],\n",
       " ['Yemen', '0'],\n",
       " ['New Zealand', '2.06'],\n",
       " ['Qatar', '0'],\n",
       " ['Qatar', '0'],\n",
       " ['Ecuador', '0.01'],\n",
       " ['Indonesia', '0'],\n",
       " ['Solomon Islands', '0.05'],\n",
       " ['Seychelles', '0.35'],\n",
       " ['China', '0.03'],\n",
       " ['Cabo Verde', '1.61'],\n",
       " ['Comoros', '0.11'],\n",
       " ['Mexico', '0.1'],\n",
       " ['Slovakia', '2.13'],\n",
       " ['Seychelles', '0.47'],\n",
       " ['Bangladesh', '0'],\n",
       " ['Comoros', '0.05'],\n",
       " ['Papua New Guinea', '0.04'],\n",
       " ['Somalia', '0'],\n",
       " ['Nicaragua', '0'],\n",
       " ['El Salvador', '0.03'],\n",
       " ['Kyrgyzstan', '0.76'],\n",
       " ['Papua New Guinea', '0.04'],\n",
       " ['Niger', '0.02'],\n",
       " ['Mauritania', '0.03'],\n",
       " ['Oman', '0'],\n",
       " ['Swaziland', '1.03'],\n",
       " ['Argentina', '9.32'],\n",
       " ['Ethiopia', '0'],\n",
       " ['Trinidad and Tobago', '0.06'],\n",
       " ['Antigua and Barbuda', '0.26'],\n",
       " ['Madagascar', '0.19'],\n",
       " ['Qatar', '0'],\n",
       " ['Vanuatu', '0.58'],\n",
       " ['Fiji', '0.15'],\n",
       " ['Belize', '0.21'],\n",
       " ['Lebanon', '0.55'],\n",
       " ['Republic of Korea', '0'],\n",
       " ['Thailand', '0'],\n",
       " ['Indonesia', '0'],\n",
       " ['United Republic of Tanzania', '0'],\n",
       " ['Bangladesh', '0'],\n",
       " ['Iraq', '0.01'],\n",
       " ['Syrian Arab Republic', '0.78'],\n",
       " ['Canada', '1.29'],\n",
       " ['Senegal', '0.16'],\n",
       " ['Angola', '0.32'],\n",
       " ['Syrian Arab Republic', '0.36'],\n",
       " ['Benin', '0.07'],\n",
       " ['Vanuatu', '0.88'],\n",
       " ['Guatemala', '0.01'],\n",
       " ['Kyrgyzstan', '1.82'],\n",
       " ['Singapore', '0.16'],\n",
       " ['Sri Lanka', '0'],\n",
       " ['Morocco', '0.25'],\n",
       " ['Gambia', '0.09'],\n",
       " ['Malaysia', '0'],\n",
       " ['Ireland', '0.58'],\n",
       " ['Ethiopia', '0'],\n",
       " ['Togo', '0.26'],\n",
       " ['Myanmar', '0'],\n",
       " ['Mongolia', '0'],\n",
       " ['Micronesia (Federated States of)', '0'],\n",
       " ['Rwanda', '0.01'],\n",
       " ['Australia', '3.31'],\n",
       " ['Latvia', '1.44'],\n",
       " ['Saint Lucia', '0.46'],\n",
       " ['Haiti', '0.01'],\n",
       " ['Nigeria', '0'],\n",
       " ['Chile', '5.41'],\n",
       " ['Thailand', '0'],\n",
       " ['Bhutan', '0'],\n",
       " ['Panama', '0.17'],\n",
       " ['Kiribati', '0.02'],\n",
       " ['Belarus', ''],\n",
       " ['Italy', '8.89'],\n",
       " ['Singapore', '0.07'],\n",
       " ['Brazil', '0.44'],\n",
       " ['Kuwait', '0'],\n",
       " ['Peru', '0.11'],\n",
       " ['Jordan', '0.02'],\n",
       " ['Samoa', '0.02'],\n",
       " ['New Zealand', '2.2'],\n",
       " ['Canada', '1.33'],\n",
       " ['Paraguay', '0.36'],\n",
       " ['Bolivia (Plurinational State of)', '0.08'],\n",
       " ['Madagascar', '0.19'],\n",
       " ['Fiji', '0.13'],\n",
       " ['Djibouti', '0.51'],\n",
       " ['Slovakia', '2.6'],\n",
       " ['Angola', '0.57'],\n",
       " ['Central African Republic', '0.46']]"
      ]
     },
     "execution_count": 5,
     "metadata": {},
     "output_type": "execute_result"
    }
   ],
   "source": [
    "wine_countries"
   ]
  },
  {
   "cell_type": "code",
   "execution_count": null,
   "metadata": {},
   "outputs": [],
   "source": []
  },
  {
   "cell_type": "markdown",
   "metadata": {},
   "source": [
    "### 1.6 Array Comparisons\n",
    "\n",
    "One of the most powerful aspects of the NumPy module is the ability to make comparisons across an entire array. These comparisons result in Boolean values.\n",
    "\n",
    "\n"
   ]
  },
  {
   "cell_type": "code",
   "execution_count": 17,
   "metadata": {
    "scrolled": true
   },
   "outputs": [
    {
     "data": {
      "text/plain": [
       "array([False,  True, False, False])"
      ]
     },
     "execution_count": 17,
     "metadata": {},
     "output_type": "execute_result"
    }
   ],
   "source": [
    "vector = np.array([5, 10, 15, 20])\n",
    "vector == 10"
   ]
  },
  {
   "cell_type": "code",
   "execution_count": 19,
   "metadata": {},
   "outputs": [
    {
     "data": {
      "text/plain": [
       "array([ 5, 10, 15])"
      ]
     },
     "execution_count": 19,
     "metadata": {},
     "output_type": "execute_result"
    }
   ],
   "source": [
    "vector[vector <= 15]"
   ]
  },
  {
   "cell_type": "code",
   "execution_count": 18,
   "metadata": {},
   "outputs": [
    {
     "data": {
      "text/plain": [
       "array([[False, False, False],\n",
       "       [False,  True, False],\n",
       "       [False, False, False]])"
      ]
     },
     "execution_count": 18,
     "metadata": {},
     "output_type": "execute_result"
    }
   ],
   "source": [
    "matrix = np.array([[5, 10, 15], \n",
    "                   [20, 25, 30],\n",
    "                   [35, 40, 45]]\n",
    "                 )\n",
    "matrix == 25"
   ]
  },
  {
   "cell_type": "code",
   "execution_count": 20,
   "metadata": {},
   "outputs": [
    {
     "data": {
      "text/plain": [
       "array([30, 35])"
      ]
     },
     "execution_count": 20,
     "metadata": {},
     "output_type": "execute_result"
    }
   ],
   "source": [
    "matrix = np.array([[5, 10, 15], \n",
    "                   [20, 25, 30],\n",
    "                   [35, 40, 45]]\n",
    "                 )\n",
    "matrix[(matrix > 25) & (matrix <= 35)]"
   ]
  },
  {
   "cell_type": "code",
   "execution_count": 21,
   "metadata": {},
   "outputs": [
    {
     "data": {
      "text/plain": [
       "225"
      ]
     },
     "execution_count": 21,
     "metadata": {},
     "output_type": "execute_result"
    }
   ],
   "source": [
    "matrix.sum()"
   ]
  },
  {
   "cell_type": "code",
   "execution_count": 22,
   "metadata": {},
   "outputs": [
    {
     "data": {
      "text/plain": [
       "array([ 30,  75, 120])"
      ]
     },
     "execution_count": 22,
     "metadata": {},
     "output_type": "execute_result"
    }
   ],
   "source": [
    "matrix.sum(axis=1)\n",
    "# soma de cada linha"
   ]
  },
  {
   "cell_type": "code",
   "execution_count": 23,
   "metadata": {},
   "outputs": [
    {
     "data": {
      "text/plain": [
       "array([60, 75, 90])"
      ]
     },
     "execution_count": 23,
     "metadata": {},
     "output_type": "execute_result"
    }
   ],
   "source": [
    "matrix.sum(axis=0)\n",
    "# soma de cada coluna"
   ]
  },
  {
   "cell_type": "markdown",
   "metadata": {},
   "source": [
    "### 1.7 Selecting elements\n",
    "\n",
    "We mentioned that comparisons are very powerful, but it may not have been obvious why on the last screen. Comparisons give us the power to select elements in arrays using Boolean vectors. This allows us to conditionally select certain elements in vectors, or certain rows in matrices.\n",
    "\n"
   ]
  },
  {
   "cell_type": "code",
   "execution_count": 24,
   "metadata": {},
   "outputs": [
    {
     "name": "stdout",
     "output_type": "stream",
     "text": [
      "[10]\n"
     ]
    }
   ],
   "source": [
    "vector = np.array([5, 10, 15, 20])\n",
    "equal_to_ten = (vector == 10)\n",
    "\n",
    "print(vector[equal_to_ten])"
   ]
  },
  {
   "cell_type": "code",
   "execution_count": 25,
   "metadata": {},
   "outputs": [
    {
     "name": "stdout",
     "output_type": "stream",
     "text": [
      "[ True  True False False]\n"
     ]
    }
   ],
   "source": [
    "vector = np.array([5, 10, 15, 20])\n",
    "equal_to_ten_and_five = (vector == 10) | (vector == 5)\n",
    "\n",
    "print(equal_to_ten_and_five)"
   ]
  },
  {
   "cell_type": "code",
   "execution_count": 26,
   "metadata": {},
   "outputs": [
    {
     "name": "stdout",
     "output_type": "stream",
     "text": [
      "[50 50 15 20]\n"
     ]
    }
   ],
   "source": [
    "vector = np.array([5, 10, 15, 20])\n",
    "equal_to_ten_or_five = (vector == 10) | (vector == 5)\n",
    "vector[equal_to_ten_or_five] = 50\n",
    "print(vector)"
   ]
  },
  {
   "cell_type": "markdown",
   "metadata": {},
   "source": [
    "### 1.8 Computing with NumPy\n",
    "\n",
    "Now that alcohol_consumption consists of numeric values, we can perform computations on it. NumPy has a few built-in methods that operate on arrays. You can view all of them in the documentation. For now, here are a few important ones:\n",
    "\n",
    "\n",
    "-  <span style=\"background-color: #F9EBEA; color:##C0392B\">sum()</span> -- Computes the sum of all the elements in a vector, or the sum along a dimension in a matrix\n",
    "-  <span style=\"background-color: #F9EBEA; color:##C0392B\">mean()</span> -- Computes the average of all the elements in a vector, or the average along a dimension in a matrix\n",
    "-  <span style=\"background-color: #F9EBEA; color:##C0392B\">max()</span> -- Identifies the maximum value among all the elements in a vector, or the maximum along a dimension in a matrix\n",
    "\n",
    "Here's an example of how we'd use one of these methods on a vector:"
   ]
  },
  {
   "cell_type": "code",
   "execution_count": null,
   "metadata": {},
   "outputs": [],
   "source": [
    "vector = np.array([5, 10, 15, 20])\n",
    "vector.sum()"
   ]
  },
  {
   "cell_type": "markdown",
   "metadata": {},
   "source": [
    "With a matrix, we have to specify an additional keyword argument, axis. The axis dictates which dimension we perform the operation on.  <span style=\"background-color: #F9EBEA; color:##C0392B\">1</span> means that we want to perform the operation on each  <span style=\"background-color: #F9EBEA; color:##C0392B\">row</span>, and  <span style=\"background-color: #F9EBEA; color:##C0392B\">0</span> means on each  <span style=\"background-color: #F9EBEA; color:##C0392B\">column</span>. The example below performs an operation across each row:\n",
    "\n",
    "\n"
   ]
  },
  {
   "cell_type": "code",
   "execution_count": null,
   "metadata": {},
   "outputs": [],
   "source": [
    "matrix = np.array([\n",
    "                [5, 10, 15], \n",
    "                [20, 25, 30],\n",
    "                [35, 40, 45]\n",
    "             ])\n",
    "matrix.sum(axis=1)"
   ]
  },
  {
   "cell_type": "markdown",
   "metadata": {},
   "source": [
    "### 1.9 NumPy Strengths And Weaknesses\n",
    "You should now have a good foundation in NumPy, and in handling issues with your data. NumPy is much easier to work with than lists of lists, because:\n",
    "\n",
    "- It's easy to perform computations on data.\n",
    "- Data indexing and slicing is faster and easier.\n",
    "- We can convert data types quickly.\n",
    "Overall, NumPy makes working with data in Python much more efficient. It's widely used for this reason, especially for  <span style=\"background-color: #F9EBEA; color:##C0392B\">machine learning</span>.\n",
    "\n",
    "You may have noticed some limitations with NumPy as you worked through the past two missions, though. For example:\n",
    "\n",
    "- All of the items in an array must have the **same data type**. For many datasets, this can make arrays cumbersome to work with.\n",
    "- Columns and rows must be **referred to by number**, which gets confusing when you go back and forth from column name to column number.\n",
    "- In the next few missions, we'll learn about the Pandas library, one of the most popular data analysis libraries. **Pandas builds on NumPy, but does a better job addressing the limitations of NumPy**.\n",
    "\n"
   ]
  },
  {
   "cell_type": "code",
   "execution_count": 27,
   "metadata": {},
   "outputs": [
    {
     "name": "stdout",
     "output_type": "stream",
     "text": [
      "[2.22, 8.52, 2.47] ['t', 'v', 'c'] [5, 2, 4]\n"
     ]
    }
   ],
   "source": [
    "a = [2.22, 8.52, 2.47]\n",
    "b = ['t', 'v', 'c']\n",
    "c = [5, 2, 4]\n",
    "print(a, b, c)"
   ]
  },
  {
   "cell_type": "code",
   "execution_count": 28,
   "metadata": {},
   "outputs": [
    {
     "name": "stdout",
     "output_type": "stream",
     "text": [
      "[[ 4 71]\n",
      " [ 5 82]\n",
      " [ 2 65]\n",
      " [ 2 87]\n",
      " [ 2 89]\n",
      " [ 7 71]]\n"
     ]
    }
   ],
   "source": [
    "import numpy as np\n",
    "store = np.array([4, 5, 2, 2, 2, 7])\n",
    "cost  = np.array([71, 82, 65, 87, 89, 71])\n",
    "np_cols = np.column_stack((store, cost))\n",
    "print(np_cols)"
   ]
  },
  {
   "cell_type": "code",
   "execution_count": 29,
   "metadata": {},
   "outputs": [
    {
     "name": "stdout",
     "output_type": "stream",
     "text": [
      "4\n",
      "6\n",
      "9\n",
      "4\n",
      "9\n",
      "6\n"
     ]
    }
   ],
   "source": [
    "import numpy as np\n",
    "x = np.array([[4, 6, 9],\n",
    "           [4, 9, 6]])\n",
    "for i in np.nditer(x):\n",
    " print(i)"
   ]
  },
  {
   "cell_type": "code",
   "execution_count": 30,
   "metadata": {},
   "outputs": [
    {
     "name": "stdout",
     "output_type": "stream",
     "text": [
      "The ticker for Microsoft is MSFT\n",
      "The ticker for Facebook is FB\n"
     ]
    }
   ],
   "source": [
    "stocks = {'Microsoft': 'MSFT', 'Facebook': 'FB'}\n",
    "for x, y in stocks.items():\n",
    " print('The ticker for ' + x + ' is ' + y)"
   ]
  },
  {
   "cell_type": "code",
   "execution_count": 31,
   "metadata": {},
   "outputs": [
    {
     "data": {
      "text/plain": [
       "array([[ 1, 14],\n",
       "       [ 2, 15],\n",
       "       [ 3, 16]])"
      ]
     },
     "execution_count": 31,
     "metadata": {},
     "output_type": "execute_result"
    }
   ],
   "source": [
    "import numpy as np\n",
    "y = np.array([[1, 2, 3], \n",
    "           [14, 15, 16]])\n",
    "np.transpose(y)"
   ]
  },
  {
   "cell_type": "code",
   "execution_count": 32,
   "metadata": {},
   "outputs": [
    {
     "name": "stdout",
     "output_type": "stream",
     "text": [
      "21\n",
      "15\n",
      "24\n"
     ]
    }
   ],
   "source": [
    "profits = [[21, 21, 30], [15, 30, 7], [24, 30, 7]]\n",
    "for x in profits:\n",
    " print(x[0])"
   ]
  },
  {
   "cell_type": "code",
   "execution_count": 42,
   "metadata": {},
   "outputs": [
    {
     "name": "stdout",
     "output_type": "stream",
     "text": [
      "[ True False False False]\n"
     ]
    }
   ],
   "source": [
    "import numpy as np\n",
    "costs = [3, 17, 7, 8]\n",
    "print(np.array(costs) <= 4)"
   ]
  },
  {
   "cell_type": "markdown",
   "metadata": {},
   "source": [
    "<br>\n",
    "<div class=\"alert alert-info\">\n",
    "<b>Exercise Start.</b>\n",
    "</div>\n",
    "\n",
    "**Complete the script to produce the output shown**: \n",
    "\n",
    "1. Script\n",
    ">```python\n",
    "a = [2.22, 8.52, 2.47]\n",
    "b = ['t', 'v', 'c']\n",
    "c = [5, 2, 4]\n",
    "print(___)\n",
    "```\n",
    "Output:\n",
    ">```python\n",
    "[[2.22, 8.52, 2.47], ['t', 'v', 'c'], [5, 2, 4]]\n",
    "```\n",
    "2. Script\n",
    ">```python\n",
    "import numpy as np\n",
    "store = np.array([4, 5, 2, 2, 2, 7])\n",
    "cost  = np.array([71, 82, 65, 87, 89, 71])\n",
    "np_cols = np.column_stack((___, ___))\n",
    "print(np_cols)\n",
    "```\n",
    "Output:\n",
    ">```python\n",
    "[[ 4 71]\n",
    " [ 5 82]\n",
    " [ 2 65]\n",
    " [ 2 87]\n",
    " [ 2 89]\n",
    " [ 7 71]]\n",
    "```\n",
    "3. Script\n",
    ">```python\n",
    "import numpy as np\n",
    "x = np.array([[4, 6, 9],\n",
    "              [4, 9, 6]])\n",
    "for i in _____(x):\n",
    "    print(i)\n",
    "```\n",
    "Output:\n",
    ">```python\n",
    "4\n",
    "6\n",
    "9\n",
    "4\n",
    "9\n",
    "6\n",
    "```\n",
    "4. Script\n",
    ">```python\n",
    "stocks = {'Microsoft': 'MSFT', 'Facebook': 'FB'}\n",
    "for x, y in stocks_______\n",
    "    print('The ticker for ' + x + ' is ' + y)\n",
    "```\n",
    "Output:\n",
    ">```python\n",
    "The ticker for Microsoft is MSFT\n",
    "The ticker for Facebook is FB\n",
    "```\n",
    "5. Script\n",
    ">```python\n",
    "import numpy as np\n",
    "y = np.array([[1, 2, 3], \n",
    "              [14, 15, 16]])\n",
    "_______(y)\n",
    "```\n",
    "Output:\n",
    ">```python\n",
    "array([[ 1, 14],\n",
    "       [ 2, 15],\n",
    "       [ 3, 16]])\n",
    "```\n",
    "6. Script\n",
    ">```python\n",
    "profits = [[21, 21, 30], [15, 30, 7], [24, 30, 7]]\n",
    "for x in profits:\n",
    "    print(____)\n",
    "```\n",
    "Output:\n",
    ">```python\n",
    "21\n",
    "15\n",
    "24\n",
    "```\n",
    "7. Script\n",
    ">```python\n",
    "import numpy as np\n",
    "costs = [3, 17, 7, 8]\n",
    "print(______(costs) <= 4)\n",
    "```\n",
    "Output:\n",
    ">```python\n",
    "[True False False False]\n",
    "```"
   ]
  }
 ],
 "metadata": {
  "kernelspec": {
   "display_name": "Python 3",
   "language": "python",
   "name": "python3"
  },
  "language_info": {
   "codemirror_mode": {
    "name": "ipython",
    "version": 3
   },
   "file_extension": ".py",
   "mimetype": "text/x-python",
   "name": "python",
   "nbconvert_exporter": "python",
   "pygments_lexer": "ipython3",
   "version": "3.6.4"
  }
 },
 "nbformat": 4,
 "nbformat_minor": 2
}
